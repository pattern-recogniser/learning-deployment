{
 "cells": [
  {
   "cell_type": "code",
   "execution_count": 1,
   "id": "d661c9b0",
   "metadata": {},
   "outputs": [],
   "source": [
    "!jt -t chesterish"
   ]
  },
  {
   "cell_type": "code",
   "execution_count": 2,
   "id": "3f66b84a",
   "metadata": {},
   "outputs": [
    {
     "name": "stderr",
     "output_type": "stream",
     "text": [
      "/Users/anjalikarimpil/opt/miniconda3/envs/ds_handbook/lib/python3.9/site-packages/scipy/__init__.py:146: UserWarning: A NumPy version >=1.17.3 and <1.25.0 is required for this version of SciPy (detected version 1.26.3\n",
      "  warnings.warn(f\"A NumPy version >={np_minversion} and <{np_maxversion}\"\n"
     ]
    }
   ],
   "source": [
    "#load all the basic libraries\n",
    "import numpy as np\n",
    "import pandas as pd\n",
    "import matplotlib.pyplot as plt\n",
    "import seaborn as sns\n",
    "import warnings\n",
    "warnings.filterwarnings('ignore')\n",
    "%matplotlib inline"
   ]
  },
  {
   "cell_type": "code",
   "execution_count": 3,
   "id": "32d23a9b",
   "metadata": {},
   "outputs": [],
   "source": [
    "# load the training and testing data\n",
    "train_df = pd.read_csv(\"data/train.csv\")\n",
    "test_df = pd.read_csv(\"data/test.csv\")\n"
   ]
  },
  {
   "cell_type": "code",
   "execution_count": 4,
   "id": "eaf94064",
   "metadata": {},
   "outputs": [
    {
     "name": "stdout",
     "output_type": "stream",
     "text": [
      "Train dataframe shape:  (891, 12)\n"
     ]
    },
    {
     "data": {
      "text/html": [
       "<div>\n",
       "<style scoped>\n",
       "    .dataframe tbody tr th:only-of-type {\n",
       "        vertical-align: middle;\n",
       "    }\n",
       "\n",
       "    .dataframe tbody tr th {\n",
       "        vertical-align: top;\n",
       "    }\n",
       "\n",
       "    .dataframe thead th {\n",
       "        text-align: right;\n",
       "    }\n",
       "</style>\n",
       "<table border=\"1\" class=\"dataframe\">\n",
       "  <thead>\n",
       "    <tr style=\"text-align: right;\">\n",
       "      <th></th>\n",
       "      <th>PassengerId</th>\n",
       "      <th>Survived</th>\n",
       "      <th>Pclass</th>\n",
       "      <th>Name</th>\n",
       "      <th>Sex</th>\n",
       "      <th>Age</th>\n",
       "      <th>SibSp</th>\n",
       "      <th>Parch</th>\n",
       "      <th>Ticket</th>\n",
       "      <th>Fare</th>\n",
       "      <th>Cabin</th>\n",
       "      <th>Embarked</th>\n",
       "    </tr>\n",
       "  </thead>\n",
       "  <tbody>\n",
       "    <tr>\n",
       "      <th>0</th>\n",
       "      <td>1</td>\n",
       "      <td>0</td>\n",
       "      <td>3</td>\n",
       "      <td>Braund, Mr. Owen Harris</td>\n",
       "      <td>male</td>\n",
       "      <td>22.0</td>\n",
       "      <td>1</td>\n",
       "      <td>0</td>\n",
       "      <td>A/5 21171</td>\n",
       "      <td>7.2500</td>\n",
       "      <td>NaN</td>\n",
       "      <td>S</td>\n",
       "    </tr>\n",
       "    <tr>\n",
       "      <th>1</th>\n",
       "      <td>2</td>\n",
       "      <td>1</td>\n",
       "      <td>1</td>\n",
       "      <td>Cumings, Mrs. John Bradley (Florence Briggs Th...</td>\n",
       "      <td>female</td>\n",
       "      <td>38.0</td>\n",
       "      <td>1</td>\n",
       "      <td>0</td>\n",
       "      <td>PC 17599</td>\n",
       "      <td>71.2833</td>\n",
       "      <td>C85</td>\n",
       "      <td>C</td>\n",
       "    </tr>\n",
       "    <tr>\n",
       "      <th>2</th>\n",
       "      <td>3</td>\n",
       "      <td>1</td>\n",
       "      <td>3</td>\n",
       "      <td>Heikkinen, Miss. Laina</td>\n",
       "      <td>female</td>\n",
       "      <td>26.0</td>\n",
       "      <td>0</td>\n",
       "      <td>0</td>\n",
       "      <td>STON/O2. 3101282</td>\n",
       "      <td>7.9250</td>\n",
       "      <td>NaN</td>\n",
       "      <td>S</td>\n",
       "    </tr>\n",
       "    <tr>\n",
       "      <th>3</th>\n",
       "      <td>4</td>\n",
       "      <td>1</td>\n",
       "      <td>1</td>\n",
       "      <td>Futrelle, Mrs. Jacques Heath (Lily May Peel)</td>\n",
       "      <td>female</td>\n",
       "      <td>35.0</td>\n",
       "      <td>1</td>\n",
       "      <td>0</td>\n",
       "      <td>113803</td>\n",
       "      <td>53.1000</td>\n",
       "      <td>C123</td>\n",
       "      <td>S</td>\n",
       "    </tr>\n",
       "    <tr>\n",
       "      <th>4</th>\n",
       "      <td>5</td>\n",
       "      <td>0</td>\n",
       "      <td>3</td>\n",
       "      <td>Allen, Mr. William Henry</td>\n",
       "      <td>male</td>\n",
       "      <td>35.0</td>\n",
       "      <td>0</td>\n",
       "      <td>0</td>\n",
       "      <td>373450</td>\n",
       "      <td>8.0500</td>\n",
       "      <td>NaN</td>\n",
       "      <td>S</td>\n",
       "    </tr>\n",
       "  </tbody>\n",
       "</table>\n",
       "</div>"
      ],
      "text/plain": [
       "   PassengerId  Survived  Pclass  \\\n",
       "0            1         0       3   \n",
       "1            2         1       1   \n",
       "2            3         1       3   \n",
       "3            4         1       1   \n",
       "4            5         0       3   \n",
       "\n",
       "                                                Name     Sex   Age  SibSp  \\\n",
       "0                            Braund, Mr. Owen Harris    male  22.0      1   \n",
       "1  Cumings, Mrs. John Bradley (Florence Briggs Th...  female  38.0      1   \n",
       "2                             Heikkinen, Miss. Laina  female  26.0      0   \n",
       "3       Futrelle, Mrs. Jacques Heath (Lily May Peel)  female  35.0      1   \n",
       "4                           Allen, Mr. William Henry    male  35.0      0   \n",
       "\n",
       "   Parch            Ticket     Fare Cabin Embarked  \n",
       "0      0         A/5 21171   7.2500   NaN        S  \n",
       "1      0          PC 17599  71.2833   C85        C  \n",
       "2      0  STON/O2. 3101282   7.9250   NaN        S  \n",
       "3      0            113803  53.1000  C123        S  \n",
       "4      0            373450   8.0500   NaN        S  "
      ]
     },
     "execution_count": 4,
     "metadata": {},
     "output_type": "execute_result"
    }
   ],
   "source": [
    "# check the train data\n",
    "print('Train dataframe shape: ',train_df.shape)\n",
    "train_df.head()"
   ]
  },
  {
   "cell_type": "code",
   "execution_count": 5,
   "id": "603b1791",
   "metadata": {},
   "outputs": [
    {
     "name": "stdout",
     "output_type": "stream",
     "text": [
      "Test dataframe shape:  (418, 11)\n"
     ]
    },
    {
     "data": {
      "text/html": [
       "<div>\n",
       "<style scoped>\n",
       "    .dataframe tbody tr th:only-of-type {\n",
       "        vertical-align: middle;\n",
       "    }\n",
       "\n",
       "    .dataframe tbody tr th {\n",
       "        vertical-align: top;\n",
       "    }\n",
       "\n",
       "    .dataframe thead th {\n",
       "        text-align: right;\n",
       "    }\n",
       "</style>\n",
       "<table border=\"1\" class=\"dataframe\">\n",
       "  <thead>\n",
       "    <tr style=\"text-align: right;\">\n",
       "      <th></th>\n",
       "      <th>PassengerId</th>\n",
       "      <th>Pclass</th>\n",
       "      <th>Name</th>\n",
       "      <th>Sex</th>\n",
       "      <th>Age</th>\n",
       "      <th>SibSp</th>\n",
       "      <th>Parch</th>\n",
       "      <th>Ticket</th>\n",
       "      <th>Fare</th>\n",
       "      <th>Cabin</th>\n",
       "      <th>Embarked</th>\n",
       "    </tr>\n",
       "  </thead>\n",
       "  <tbody>\n",
       "    <tr>\n",
       "      <th>0</th>\n",
       "      <td>892</td>\n",
       "      <td>3</td>\n",
       "      <td>Kelly, Mr. James</td>\n",
       "      <td>male</td>\n",
       "      <td>34.5</td>\n",
       "      <td>0</td>\n",
       "      <td>0</td>\n",
       "      <td>330911</td>\n",
       "      <td>7.8292</td>\n",
       "      <td>NaN</td>\n",
       "      <td>Q</td>\n",
       "    </tr>\n",
       "    <tr>\n",
       "      <th>1</th>\n",
       "      <td>893</td>\n",
       "      <td>3</td>\n",
       "      <td>Wilkes, Mrs. James (Ellen Needs)</td>\n",
       "      <td>female</td>\n",
       "      <td>47.0</td>\n",
       "      <td>1</td>\n",
       "      <td>0</td>\n",
       "      <td>363272</td>\n",
       "      <td>7.0000</td>\n",
       "      <td>NaN</td>\n",
       "      <td>S</td>\n",
       "    </tr>\n",
       "    <tr>\n",
       "      <th>2</th>\n",
       "      <td>894</td>\n",
       "      <td>2</td>\n",
       "      <td>Myles, Mr. Thomas Francis</td>\n",
       "      <td>male</td>\n",
       "      <td>62.0</td>\n",
       "      <td>0</td>\n",
       "      <td>0</td>\n",
       "      <td>240276</td>\n",
       "      <td>9.6875</td>\n",
       "      <td>NaN</td>\n",
       "      <td>Q</td>\n",
       "    </tr>\n",
       "    <tr>\n",
       "      <th>3</th>\n",
       "      <td>895</td>\n",
       "      <td>3</td>\n",
       "      <td>Wirz, Mr. Albert</td>\n",
       "      <td>male</td>\n",
       "      <td>27.0</td>\n",
       "      <td>0</td>\n",
       "      <td>0</td>\n",
       "      <td>315154</td>\n",
       "      <td>8.6625</td>\n",
       "      <td>NaN</td>\n",
       "      <td>S</td>\n",
       "    </tr>\n",
       "    <tr>\n",
       "      <th>4</th>\n",
       "      <td>896</td>\n",
       "      <td>3</td>\n",
       "      <td>Hirvonen, Mrs. Alexander (Helga E Lindqvist)</td>\n",
       "      <td>female</td>\n",
       "      <td>22.0</td>\n",
       "      <td>1</td>\n",
       "      <td>1</td>\n",
       "      <td>3101298</td>\n",
       "      <td>12.2875</td>\n",
       "      <td>NaN</td>\n",
       "      <td>S</td>\n",
       "    </tr>\n",
       "  </tbody>\n",
       "</table>\n",
       "</div>"
      ],
      "text/plain": [
       "   PassengerId  Pclass                                          Name     Sex  \\\n",
       "0          892       3                              Kelly, Mr. James    male   \n",
       "1          893       3              Wilkes, Mrs. James (Ellen Needs)  female   \n",
       "2          894       2                     Myles, Mr. Thomas Francis    male   \n",
       "3          895       3                              Wirz, Mr. Albert    male   \n",
       "4          896       3  Hirvonen, Mrs. Alexander (Helga E Lindqvist)  female   \n",
       "\n",
       "    Age  SibSp  Parch   Ticket     Fare Cabin Embarked  \n",
       "0  34.5      0      0   330911   7.8292   NaN        Q  \n",
       "1  47.0      1      0   363272   7.0000   NaN        S  \n",
       "2  62.0      0      0   240276   9.6875   NaN        Q  \n",
       "3  27.0      0      0   315154   8.6625   NaN        S  \n",
       "4  22.0      1      1  3101298  12.2875   NaN        S  "
      ]
     },
     "execution_count": 5,
     "metadata": {},
     "output_type": "execute_result"
    }
   ],
   "source": [
    "# check the test data\n",
    "print('Test dataframe shape: ',test_df.shape)\n",
    "test_df.head()"
   ]
  },
  {
   "cell_type": "code",
   "execution_count": 6,
   "id": "0e404910",
   "metadata": {},
   "outputs": [
    {
     "name": "stdout",
     "output_type": "stream",
     "text": [
      "<class 'pandas.core.frame.DataFrame'>\n",
      "RangeIndex: 891 entries, 0 to 890\n",
      "Data columns (total 12 columns):\n",
      " #   Column       Non-Null Count  Dtype  \n",
      "---  ------       --------------  -----  \n",
      " 0   PassengerId  891 non-null    int64  \n",
      " 1   Survived     891 non-null    int64  \n",
      " 2   Pclass       891 non-null    int64  \n",
      " 3   Name         891 non-null    object \n",
      " 4   Sex          891 non-null    object \n",
      " 5   Age          714 non-null    float64\n",
      " 6   SibSp        891 non-null    int64  \n",
      " 7   Parch        891 non-null    int64  \n",
      " 8   Ticket       891 non-null    object \n",
      " 9   Fare         891 non-null    float64\n",
      " 10  Cabin        204 non-null    object \n",
      " 11  Embarked     889 non-null    object \n",
      "dtypes: float64(2), int64(5), object(5)\n",
      "memory usage: 83.7+ KB\n",
      "None\n",
      "       PassengerId    Survived      Pclass         Age       SibSp  \\\n",
      "count   891.000000  891.000000  891.000000  714.000000  891.000000   \n",
      "mean    446.000000    0.383838    2.308642   29.699118    0.523008   \n",
      "std     257.353842    0.486592    0.836071   14.526497    1.102743   \n",
      "min       1.000000    0.000000    1.000000    0.420000    0.000000   \n",
      "25%     223.500000    0.000000    2.000000   20.125000    0.000000   \n",
      "50%     446.000000    0.000000    3.000000   28.000000    0.000000   \n",
      "75%     668.500000    1.000000    3.000000   38.000000    1.000000   \n",
      "max     891.000000    1.000000    3.000000   80.000000    8.000000   \n",
      "\n",
      "            Parch        Fare  \n",
      "count  891.000000  891.000000  \n",
      "mean     0.381594   32.204208  \n",
      "std      0.806057   49.693429  \n",
      "min      0.000000    0.000000  \n",
      "25%      0.000000    7.910400  \n",
      "50%      0.000000   14.454200  \n",
      "75%      0.000000   31.000000  \n",
      "max      6.000000  512.329200  \n"
     ]
    }
   ],
   "source": [
    "print(train_df.info())\n",
    "print(train_df.describe())"
   ]
  },
  {
   "cell_type": "code",
   "execution_count": 7,
   "id": "d3bb07a4",
   "metadata": {},
   "outputs": [],
   "source": [
    "# show missing data along with their percentage\n",
    "def missing_data(df):\n",
    "    nullvalues = df.isnull()\n",
    "    total_missing = nullvalues.sum().sort_values(ascending=False)\n",
    "    total_missing_percentage = nullvalues.sum()/nullvalues.count()*100\n",
    "    total_missing_percentage = (round(total_missing_percentage,1)).sort_values(ascending=False)\n",
    "    missing_data = pd.concat([total_missing,total_missing_percentage],axis=1,keys=['Total','%'])\n",
    "    return missing_data"
   ]
  },
  {
   "cell_type": "code",
   "execution_count": 8,
   "id": "afb932fd",
   "metadata": {},
   "outputs": [
    {
     "name": "stdout",
     "output_type": "stream",
     "text": [
      "------Missing train data---\n"
     ]
    },
    {
     "data": {
      "text/html": [
       "<div>\n",
       "<style scoped>\n",
       "    .dataframe tbody tr th:only-of-type {\n",
       "        vertical-align: middle;\n",
       "    }\n",
       "\n",
       "    .dataframe tbody tr th {\n",
       "        vertical-align: top;\n",
       "    }\n",
       "\n",
       "    .dataframe thead th {\n",
       "        text-align: right;\n",
       "    }\n",
       "</style>\n",
       "<table border=\"1\" class=\"dataframe\">\n",
       "  <thead>\n",
       "    <tr style=\"text-align: right;\">\n",
       "      <th></th>\n",
       "      <th>Total</th>\n",
       "      <th>%</th>\n",
       "    </tr>\n",
       "  </thead>\n",
       "  <tbody>\n",
       "    <tr>\n",
       "      <th>Cabin</th>\n",
       "      <td>687</td>\n",
       "      <td>77.1</td>\n",
       "    </tr>\n",
       "    <tr>\n",
       "      <th>Age</th>\n",
       "      <td>177</td>\n",
       "      <td>19.9</td>\n",
       "    </tr>\n",
       "    <tr>\n",
       "      <th>Embarked</th>\n",
       "      <td>2</td>\n",
       "      <td>0.2</td>\n",
       "    </tr>\n",
       "    <tr>\n",
       "      <th>PassengerId</th>\n",
       "      <td>0</td>\n",
       "      <td>0.0</td>\n",
       "    </tr>\n",
       "    <tr>\n",
       "      <th>Survived</th>\n",
       "      <td>0</td>\n",
       "      <td>0.0</td>\n",
       "    </tr>\n",
       "    <tr>\n",
       "      <th>Pclass</th>\n",
       "      <td>0</td>\n",
       "      <td>0.0</td>\n",
       "    </tr>\n",
       "    <tr>\n",
       "      <th>Name</th>\n",
       "      <td>0</td>\n",
       "      <td>0.0</td>\n",
       "    </tr>\n",
       "    <tr>\n",
       "      <th>Sex</th>\n",
       "      <td>0</td>\n",
       "      <td>0.0</td>\n",
       "    </tr>\n",
       "    <tr>\n",
       "      <th>SibSp</th>\n",
       "      <td>0</td>\n",
       "      <td>0.0</td>\n",
       "    </tr>\n",
       "    <tr>\n",
       "      <th>Parch</th>\n",
       "      <td>0</td>\n",
       "      <td>0.0</td>\n",
       "    </tr>\n",
       "    <tr>\n",
       "      <th>Ticket</th>\n",
       "      <td>0</td>\n",
       "      <td>0.0</td>\n",
       "    </tr>\n",
       "    <tr>\n",
       "      <th>Fare</th>\n",
       "      <td>0</td>\n",
       "      <td>0.0</td>\n",
       "    </tr>\n",
       "  </tbody>\n",
       "</table>\n",
       "</div>"
      ],
      "text/plain": [
       "             Total     %\n",
       "Cabin          687  77.1\n",
       "Age            177  19.9\n",
       "Embarked         2   0.2\n",
       "PassengerId      0   0.0\n",
       "Survived         0   0.0\n",
       "Pclass           0   0.0\n",
       "Name             0   0.0\n",
       "Sex              0   0.0\n",
       "SibSp            0   0.0\n",
       "Parch            0   0.0\n",
       "Ticket           0   0.0\n",
       "Fare             0   0.0"
      ]
     },
     "execution_count": 8,
     "metadata": {},
     "output_type": "execute_result"
    }
   ],
   "source": [
    "print('------Missing train data---')\n",
    "missing_data(train_df)"
   ]
  },
  {
   "cell_type": "code",
   "execution_count": 9,
   "id": "9f53798f",
   "metadata": {},
   "outputs": [
    {
     "name": "stdout",
     "output_type": "stream",
     "text": [
      "------Missing test data---------\n"
     ]
    },
    {
     "data": {
      "text/html": [
       "<div>\n",
       "<style scoped>\n",
       "    .dataframe tbody tr th:only-of-type {\n",
       "        vertical-align: middle;\n",
       "    }\n",
       "\n",
       "    .dataframe tbody tr th {\n",
       "        vertical-align: top;\n",
       "    }\n",
       "\n",
       "    .dataframe thead th {\n",
       "        text-align: right;\n",
       "    }\n",
       "</style>\n",
       "<table border=\"1\" class=\"dataframe\">\n",
       "  <thead>\n",
       "    <tr style=\"text-align: right;\">\n",
       "      <th></th>\n",
       "      <th>Total</th>\n",
       "      <th>%</th>\n",
       "    </tr>\n",
       "  </thead>\n",
       "  <tbody>\n",
       "    <tr>\n",
       "      <th>Cabin</th>\n",
       "      <td>327</td>\n",
       "      <td>78.2</td>\n",
       "    </tr>\n",
       "    <tr>\n",
       "      <th>Age</th>\n",
       "      <td>86</td>\n",
       "      <td>20.6</td>\n",
       "    </tr>\n",
       "    <tr>\n",
       "      <th>Fare</th>\n",
       "      <td>1</td>\n",
       "      <td>0.2</td>\n",
       "    </tr>\n",
       "    <tr>\n",
       "      <th>PassengerId</th>\n",
       "      <td>0</td>\n",
       "      <td>0.0</td>\n",
       "    </tr>\n",
       "    <tr>\n",
       "      <th>Pclass</th>\n",
       "      <td>0</td>\n",
       "      <td>0.0</td>\n",
       "    </tr>\n",
       "    <tr>\n",
       "      <th>Name</th>\n",
       "      <td>0</td>\n",
       "      <td>0.0</td>\n",
       "    </tr>\n",
       "    <tr>\n",
       "      <th>Sex</th>\n",
       "      <td>0</td>\n",
       "      <td>0.0</td>\n",
       "    </tr>\n",
       "    <tr>\n",
       "      <th>SibSp</th>\n",
       "      <td>0</td>\n",
       "      <td>0.0</td>\n",
       "    </tr>\n",
       "    <tr>\n",
       "      <th>Parch</th>\n",
       "      <td>0</td>\n",
       "      <td>0.0</td>\n",
       "    </tr>\n",
       "    <tr>\n",
       "      <th>Ticket</th>\n",
       "      <td>0</td>\n",
       "      <td>0.0</td>\n",
       "    </tr>\n",
       "    <tr>\n",
       "      <th>Embarked</th>\n",
       "      <td>0</td>\n",
       "      <td>0.0</td>\n",
       "    </tr>\n",
       "  </tbody>\n",
       "</table>\n",
       "</div>"
      ],
      "text/plain": [
       "             Total     %\n",
       "Cabin          327  78.2\n",
       "Age             86  20.6\n",
       "Fare             1   0.2\n",
       "PassengerId      0   0.0\n",
       "Pclass           0   0.0\n",
       "Name             0   0.0\n",
       "Sex              0   0.0\n",
       "SibSp            0   0.0\n",
       "Parch            0   0.0\n",
       "Ticket           0   0.0\n",
       "Embarked         0   0.0"
      ]
     },
     "execution_count": 9,
     "metadata": {},
     "output_type": "execute_result"
    }
   ],
   "source": [
    "print('------Missing test data---------')\n",
    "missing_data(test_df)"
   ]
  },
  {
   "cell_type": "code",
   "execution_count": 10,
   "id": "fd082584",
   "metadata": {},
   "outputs": [
    {
     "name": "stdout",
     "output_type": "stream",
     "text": [
      "0    549\n",
      "1    342\n",
      "Name: Survived, dtype: int64\n",
      "\n",
      "So, total 61.62% passenger didnt survived.\n"
     ]
    },
    {
     "data": {
      "image/png": "[encoded data removed]",
      "text/plain": [
       "<Figure size 432x288 with 1 Axes>"
      ]
     },
     "metadata": {
      "needs_background": "light"
     },
     "output_type": "display_data"
    }
   ],
   "source": [
    "# check how many passengers (not)survived from the given dataseta along with their percentage\n",
    "print(train_df['Survived'].value_counts())\n",
    "survived = \"{:.2f}\".format(train_df['Survived'].value_counts(normalize=True)[0]*100)\n",
    "\n",
    "sns.countplot(train_df['Survived'])\n",
    "print('\\nSo, total '+survived +'% passenger didnt survived.')"
   ]
  },
  {
   "cell_type": "code",
   "execution_count": 11,
   "id": "ecc64d09",
   "metadata": {},
   "outputs": [],
   "source": [
    "# this function is used to compare (not)survived based on a selective feature\n",
    "def visualize_data(feature):\n",
    "    plt.subplots(figsize = (10,10))\n",
    "    ax=sns.countplot(x=feature,hue='Survived',data=train_df)\n",
    "    plt.title(\"Survived vs Non-Survived by \"+feature, fontsize = 25)\n",
    "    leg=ax.get_legend()\n",
    "    leg.set_title('Survival')\n",
    "    legs=leg.texts\n",
    "    legs[0].set_text('No')\n",
    "    legs[1].set_text(\"yes\")  \n",
    "    \n",
    "#this function is used to print number of Survived passenger by a selective feature\n",
    "def print_survived_data_by_feature(data,feature):    \n",
    "    print('\\n\\nNumber of Survived passenger by '+feature+' :')\n",
    "    print(data[data['Survived']==1][feature].groupby(train_df[feature]).count())\n",
    "    print('\\n\\nNumber of Dead passenger by '+feature+' :')\n",
    "    print(train_df[data['Survived']==0][feature].groupby(data[feature]).count())    \n",
    "    "
   ]
  },
  {
   "cell_type": "code",
   "execution_count": 12,
   "id": "cdc79acb",
   "metadata": {},
   "outputs": [
    {
     "name": "stdout",
     "output_type": "stream",
     "text": [
      "\n",
      "\n",
      "Number of Survived passenger by Pclass :\n",
      "Pclass\n",
      "1    136\n",
      "2     87\n",
      "3    119\n",
      "Name: Pclass, dtype: int64\n",
      "\n",
      "\n",
      "Number of Dead passenger by Pclass :\n",
      "Pclass\n",
      "1     80\n",
      "2     97\n",
      "3    372\n",
      "Name: Pclass, dtype: int64\n"
     ]
    },
    {
     "data": {
      "image/png": "[encoded data removed]",
      "text/plain": [
       "<Figure size 720x720 with 1 Axes>"
      ]
     },
     "metadata": {
      "needs_background": "light"
     },
     "output_type": "display_data"
    }
   ],
   "source": [
    "# Now check how many passengers (not)survived for each passenger's class\n",
    "visualize_data('Pclass') \n",
    "print_survived_data_by_feature(train_df,'Pclass')"
   ]
  },
  {
   "cell_type": "markdown",
   "id": "a141d0d7",
   "metadata": {},
   "source": [
    "We can see that 3rd class passenger died mostly. On the other hand,survival rate of 1st class passenger was higher than others.\n",
    "\n",
    "According to BBC news:\n",
    "\n",
    ">Third class passengers were all in search of a new life in America. Each class of passengers had access to their own decks and allocated lifeboats - although crucially no lifeboats were stored in the third class sections of the ship.\n",
    "Third class passengers had to find their way through a maze of corridors and staircases to reach the boat deck. First and second class passengers were most likely to reach the lifeboats as the boat deck was a first and second class promenade.\n",
    "When the lifeboats were finally lowered officers gave the order that \"women and children\" should go first\n",
    "<"
   ]
  },
  {
   "cell_type": "code",
   "execution_count": 13,
   "id": "863edcd1",
   "metadata": {},
   "outputs": [
    {
     "name": "stdout",
     "output_type": "stream",
     "text": [
      "\n",
      "\n",
      "Number of Survived passenger by Sex :\n",
      "Sex\n",
      "female    233\n",
      "male      109\n",
      "Name: Sex, dtype: int64\n",
      "\n",
      "\n",
      "Number of Dead passenger by Sex :\n",
      "Sex\n",
      "female     81\n",
      "male      468\n",
      "Name: Sex, dtype: int64\n"
     ]
    },
    {
     "data": {
      "image/png": "[encoded data removed]",
      "text/plain": [
       "<Figure size 720x720 with 1 Axes>"
      ]
     },
     "metadata": {
      "needs_background": "light"
     },
     "output_type": "display_data"
    }
   ],
   "source": [
    "# Now check how many passengers (not)survived based on passenger's gender\n",
    "visualize_data('Sex')\n",
    "print_survived_data_by_feature(train_df,'Sex')"
   ]
  },
  {
   "cell_type": "markdown",
   "id": "30090b36",
   "metadata": {},
   "source": [
    "Here, we can see that man dided more compared to women as we know the fact that 'officers of the titanic gave the order that women and children should go first with the lifeboat'"
   ]
  },
  {
   "cell_type": "code",
   "execution_count": 14,
   "id": "fbc0a2b5",
   "metadata": {},
   "outputs": [
    {
     "name": "stdout",
     "output_type": "stream",
     "text": [
      "\n",
      "\n",
      "Number of Survived passenger by SibSp :\n",
      "SibSp\n",
      "0    210\n",
      "1    112\n",
      "2     13\n",
      "3      4\n",
      "4      3\n",
      "Name: SibSp, dtype: int64\n",
      "\n",
      "\n",
      "Number of Dead passenger by SibSp :\n",
      "SibSp\n",
      "0    398\n",
      "1     97\n",
      "2     15\n",
      "3     12\n",
      "4     15\n",
      "5      5\n",
      "8      7\n",
      "Name: SibSp, dtype: int64\n"
     ]
    },
    {
     "data": {
      "image/png": "[encoded data removed]",
      "text/plain": [
       "<Figure size 720x720 with 1 Axes>"
      ]
     },
     "metadata": {
      "needs_background": "light"
     },
     "output_type": "display_data"
    }
   ],
   "source": [
    "# Would married people fare better? \n",
    "# Now check how many passengers (not)survived based on no of siblings/spouses the passenger had\n",
    "visualize_data('SibSp')\n",
    "print_survived_data_by_feature(train_df,'SibSp')"
   ]
  },
  {
   "cell_type": "markdown",
   "id": "ee697a7f",
   "metadata": {},
   "source": [
    "This looks strange. It appears that passengers who were single died mostly, on the otherhand who had 1 sibling or spouse survived slightly higher compared to others. \n",
    "Perhaps all women on board who had 1 spouse comes under this? \n",
    "Clearly there are other facts which we need to explore. From this, we see from the data that most of the passengers were single. From the history, we know that most of the people were going to America searching for better life."
   ]
  },
  {
   "cell_type": "markdown",
   "id": "a9b17460",
   "metadata": {},
   "source": [
    "Were you more likely to survive if you travelled with your family? "
   ]
  },
  {
   "cell_type": "code",
   "execution_count": 15,
   "id": "9a98830f",
   "metadata": {},
   "outputs": [
    {
     "name": "stdout",
     "output_type": "stream",
     "text": [
      "\n",
      "\n",
      "Number of Survived passenger by Parch :\n",
      "Parch\n",
      "0    233\n",
      "1     65\n",
      "2     40\n",
      "3      3\n",
      "5      1\n",
      "Name: Parch, dtype: int64\n",
      "\n",
      "\n",
      "Number of Dead passenger by Parch :\n",
      "Parch\n",
      "0    445\n",
      "1     53\n",
      "2     40\n",
      "3      2\n",
      "4      4\n",
      "5      4\n",
      "6      1\n",
      "Name: Parch, dtype: int64\n"
     ]
    },
    {
     "data": {
      "image/png": "[encoded data removed]",
      "text/plain": [
       "<Figure size 720x720 with 1 Axes>"
      ]
     },
     "metadata": {
      "needs_background": "light"
     },
     "output_type": "display_data"
    }
   ],
   "source": [
    "# Now, check how many passengers (not)survived based on number of parants/children the passenger had\n",
    "visualize_data('Parch')\n",
    "print_survived_data_by_feature(train_df,'Parch')"
   ]
  },
  {
   "cell_type": "markdown",
   "id": "5c1bf654",
   "metadata": {},
   "source": [
    "Similar observations here. Most of the people were single. But we can't draw a conclusion by seeing this graph. This graph shows that single passenger died but passenger who had 1 parent or child survived most compared to others."
   ]
  },
  {
   "cell_type": "code",
   "execution_count": 16,
   "id": "c48bf487",
   "metadata": {},
   "outputs": [
    {
     "name": "stdout",
     "output_type": "stream",
     "text": [
      "\n",
      "\n",
      "Number of Survived passenger by Embarked :\n",
      "Embarked\n",
      "C     93\n",
      "Q     30\n",
      "S    217\n",
      "Name: Embarked, dtype: int64\n",
      "\n",
      "\n",
      "Number of Dead passenger by Embarked :\n",
      "Embarked\n",
      "C     75\n",
      "Q     47\n",
      "S    427\n",
      "Name: Embarked, dtype: int64\n"
     ]
    },
    {
     "data": {
      "image/png": "[encoded data removed]",
      "text/plain": [
       "<Figure size 720x720 with 1 Axes>"
      ]
     },
     "metadata": {
      "needs_background": "light"
     },
     "output_type": "display_data"
    }
   ],
   "source": [
    "# Does where you embarked from indicate any chance of survival?\n",
    "visualize_data('Embarked')\n",
    "print_survived_data_by_feature(train_df,'Embarked')"
   ]
  },
  {
   "cell_type": "markdown",
   "id": "881671ad",
   "metadata": {},
   "source": [
    "Most of the passengers boarded from Southampton(S).\n",
    "Interestingly, you are more likely to survive if you embarked Cherbourg(C). Probably wealthy people boarded from there? \n",
    "A good few of the crew and the workers boarded from Southampton and Queenstown, probably in lower classes - thus the lower rates of survival."
   ]
  },
  {
   "cell_type": "markdown",
   "id": "88fd030a",
   "metadata": {},
   "source": [
    "#### Feature engineering\n",
    "If we see the Name column, first it might seem unnecessary for our analysis. But if we pay a closer look then we can get a necessary information from the Name colum. It gives us the information regarding the title of the passenger and this information might be useful for our analysis. So, we extract the title from the Name colum and make a new column named Title and remove the Name colum from the dataset."
   ]
  },
  {
   "cell_type": "code",
   "execution_count": 17,
   "id": "ece4c5c7",
   "metadata": {},
   "outputs": [],
   "source": [
    "#working with Name\n",
    "import re\n",
    "# This function is a helper function of title_feature function\n",
    "def extract_title(name):\n",
    "    title_search = re.search(' ([A-Za-z]+)\\.', name)\n",
    "    # If the title exists, extract and return it.\n",
    "    if title_search:\n",
    "        return title_search.group(1)\n",
    "    return \"\"\n",
    "\n",
    "# This function is used to make a new column named 'Title' \n",
    "# which extracts the title from the 'Name' column as the title always ends with a dot(.) \n",
    "def title_feature(train_df,test_df):\n",
    "    for data in [train_df,test_df]:\n",
    "        data['Title'] = data['Name'].apply(extract_title)\n",
    "        del data['Name']\n",
    "    return train_df,test_df  "
   ]
  },
  {
   "cell_type": "code",
   "execution_count": 18,
   "id": "4659aa71",
   "metadata": {},
   "outputs": [],
   "source": [
    "train_df, test_df = title_feature(train_df,test_df)"
   ]
  },
  {
   "cell_type": "code",
   "execution_count": 19,
   "id": "c18aa6d7",
   "metadata": {},
   "outputs": [
    {
     "name": "stdout",
     "output_type": "stream",
     "text": [
      "Unique Titles in train data\n",
      "Mr          517\n",
      "Miss        182\n",
      "Mrs         125\n",
      "Master       40\n",
      "Dr            7\n",
      "Rev           6\n",
      "Mlle          2\n",
      "Major         2\n",
      "Col           2\n",
      "Countess      1\n",
      "Capt          1\n",
      "Ms            1\n",
      "Sir           1\n",
      "Lady          1\n",
      "Mme           1\n",
      "Don           1\n",
      "Jonkheer      1\n",
      "Name: Title, dtype: int64\n",
      "\n",
      "Unique Titles in test data\n",
      "Mr        240\n",
      "Miss       78\n",
      "Mrs        72\n",
      "Master     21\n",
      "Col         2\n",
      "Rev         2\n",
      "Ms          1\n",
      "Dr          1\n",
      "Dona        1\n",
      "Name: Title, dtype: int64\n"
     ]
    }
   ],
   "source": [
    "print('Unique Titles in train data')\n",
    "print(train_df['Title'].value_counts())\n",
    "print('\\nUnique Titles in test data')\n",
    "print(test_df['Title'].value_counts())"
   ]
  },
  {
   "cell_type": "markdown",
   "id": "8cf62e3c",
   "metadata": {},
   "source": [
    "This split checks out with the remaining analysis. We see the majority are \"Mr\" titles. Time to clean up these titles into sub-groups for better analysis."
   ]
  },
  {
   "cell_type": "code",
   "execution_count": 20,
   "id": "9e8eeaf4",
   "metadata": {},
   "outputs": [],
   "source": [
    "# so categorize the titles\n",
    "title_mapping = { \"Mr\": \"Mr\", \"Miss\": \"Miss\", \"Mrs\": \"Mrs\", \n",
    "                 \"Master\": \"Master\",\"Dr\": \"Others\", \"Rev\": \"Others\", \"Col\": \"Others\", \"Major\": \"Others\",\n",
    "                 \"Mlle\": \"Others\",\"Countess\": \"Others\",\n",
    "                 \"Ms\": \"Others\", \"Lady\": \"Others\", \"Jonkheer\": \"Others\",\n",
    "                 \"Don\": \"Others\", \"Dona\" : \"Others\", \"Mme\": \"Others\",\n",
    "                 \"Capt\": \"Others\",\"Sir\": \"Others\" }\n",
    "def title_binning(train_df,test_df):\n",
    "    for data in [train_df,test_df]:\n",
    "        data['Title'] = data['Title'].map(title_mapping)\n",
    "    return  train_df,test_df   "
   ]
  },
  {
   "cell_type": "code",
   "execution_count": 21,
   "id": "d98193a1",
   "metadata": {},
   "outputs": [
    {
     "name": "stdout",
     "output_type": "stream",
     "text": [
      "Now we have 5 unique Titles in train data:\n",
      "Mr        517\n",
      "Miss      182\n",
      "Mrs       125\n",
      "Master     40\n",
      "Others     27\n",
      "Name: Title, dtype: int64\n"
     ]
    }
   ],
   "source": [
    "train_df, test_df = title_binning(train_df,test_df)\n",
    "print('Now we have 5 unique Titles in train data:')\n",
    "print(train_df['Title'].value_counts())"
   ]
  },
  {
   "cell_type": "code",
   "execution_count": 22,
   "id": "438df5c1",
   "metadata": {},
   "outputs": [
    {
     "name": "stdout",
     "output_type": "stream",
     "text": [
      "\n",
      "\n",
      "Number of Survived passenger by Title :\n",
      "Title\n",
      "Master     23\n",
      "Miss      127\n",
      "Mr         81\n",
      "Mrs        99\n",
      "Others     12\n",
      "Name: Title, dtype: int64\n",
      "\n",
      "\n",
      "Number of Dead passenger by Title :\n",
      "Title\n",
      "Master     17\n",
      "Miss       55\n",
      "Mr        436\n",
      "Mrs        26\n",
      "Others     15\n",
      "Name: Title, dtype: int64\n"
     ]
    },
    {
     "data": {
      "image/png": "[encoded data removed]",
      "text/plain": [
       "<Figure size 720x720 with 1 Axes>"
      ]
     },
     "metadata": {
      "needs_background": "light"
     },
     "output_type": "display_data"
    }
   ],
   "source": [
    "visualize_data('Title')\n",
    "print_survived_data_by_feature(train_df,'Title')"
   ]
  },
  {
   "cell_type": "markdown",
   "id": "b878c8d1",
   "metadata": {},
   "source": [
    "Higher chances of survival if you're a Mrs or a Miss, or a Master"
   ]
  },
  {
   "cell_type": "markdown",
   "id": "2135fbc0",
   "metadata": {},
   "source": [
    "Here, we will create a new column named 'FamilySize' combining the colums 'SibSp' and 'Parach'. We also add one during the calculation as we include the passender himself into the familySize variable. We'll also group this variable for a meaningful analysis. Finally, we will delete the 'SibSp' and 'Parach' columns from the dataset."
   ]
  },
  {
   "cell_type": "code",
   "execution_count": 23,
   "id": "6679ff4f",
   "metadata": {},
   "outputs": [],
   "source": [
    "#working with family size\n",
    "#This function makes a new feature named 'FamilySize' where it has 3 types of family size namely 'Single','Small','Big'\n",
    "def binned_family_size_feature(train_df,test_df):\n",
    "    for data in [train_df,test_df]:\n",
    "        fsize =  data['SibSp'] + data['Parch'] + 1\n",
    "        data['FamilySize'] =np.where(fsize==1,'Single',np.where(fsize<=3,'Small','Big'))\n",
    "        del data['SibSp']\n",
    "        del data['Parch']\n",
    "    return train_df,test_df "
   ]
  },
  {
   "cell_type": "code",
   "execution_count": 24,
   "id": "9ca31dad",
   "metadata": {},
   "outputs": [],
   "source": [
    "train_df, test_df = binned_family_size_feature(train_df,test_df)"
   ]
  },
  {
   "cell_type": "code",
   "execution_count": 25,
   "id": "60aa929e",
   "metadata": {},
   "outputs": [
    {
     "name": "stdout",
     "output_type": "stream",
     "text": [
      "\n",
      "\n",
      "Number of Survived passenger by FamilySize :\n",
      "FamilySize\n",
      "Big        31\n",
      "Single    163\n",
      "Small     148\n",
      "Name: FamilySize, dtype: int64\n",
      "\n",
      "\n",
      "Number of Dead passenger by FamilySize :\n",
      "FamilySize\n",
      "Big        60\n",
      "Single    374\n",
      "Small     115\n",
      "Name: FamilySize, dtype: int64\n"
     ]
    },
    {
     "data": {
      "image/png": "[encoded data removed]",
      "text/plain": [
       "<Figure size 720x720 with 1 Axes>"
      ]
     },
     "metadata": {
      "needs_background": "light"
     },
     "output_type": "display_data"
    }
   ],
   "source": [
    "\n",
    "visualize_data('FamilySize')\n",
    "print_survived_data_by_feature(train_df,'FamilySize')"
   ]
  },
  {
   "cell_type": "markdown",
   "id": "f0a156cc",
   "metadata": {},
   "source": [
    "As expected, singles were less likely to survive. If you had a small family of 3 or less, you were more likely to survive. However, big families had lesser rates of survival."
   ]
  },
  {
   "cell_type": "markdown",
   "id": "988bf2cf",
   "metadata": {},
   "source": [
    "Okay, what else can we work with?\n",
    "\n",
    "As the 'Age' column had 177(20%) missing value, we need to fill the missing value. Instead of the total average age, we can fill the missing Age column according to their title. As we already know their title, we can fill the missing value by grouping the title and taking the median of that title group."
   ]
  },
  {
   "cell_type": "code",
   "execution_count": 26,
   "id": "1ff3fbc2",
   "metadata": {},
   "outputs": [],
   "source": [
    "#working with age\n",
    "# This function is used to fill the missing values of age column with the median age value of respective 'Title'\n",
    "def fill_missing_age(train_df,test_df):\n",
    "    for data in [train_df,test_df]:\n",
    "        train_df[\"Age\"].fillna(train_df.groupby(\"Title\")[\"Age\"].transform(\"median\"), inplace=True)\n",
    "        test_df[\"Age\"].fillna(train_df.groupby(\"Title\")[\"Age\"].transform(\"median\"), inplace=True)   \n",
    "    return train_df,test_df  "
   ]
  },
  {
   "cell_type": "code",
   "execution_count": 27,
   "id": "132e9183",
   "metadata": {},
   "outputs": [
    {
     "name": "stdout",
     "output_type": "stream",
     "text": [
      "Before filling - Missing Age Count: 177\n",
      "After filling - Missing Age Count: 0\n"
     ]
    }
   ],
   "source": [
    "print('Before filling - Missing Age Count: '+str(train_df['Age'].isnull().sum()))\n",
    "train_df, test_df = fill_missing_age(train_df,test_df)\n",
    "print('After filling - Missing Age Count: '+str(train_df['Age'].isnull().sum()))"
   ]
  },
  {
   "cell_type": "markdown",
   "id": "68e9e6b6",
   "metadata": {},
   "source": [
    "Brilliant! We were able to impute for all missing values using the title feature. Now let's group these ages and take a look at the chances of survival for each group"
   ]
  },
  {
   "cell_type": "code",
   "execution_count": 28,
   "id": "d403638c",
   "metadata": {},
   "outputs": [],
   "source": [
    "#This function is used to make 5 bins of Age column namely 'Child','Young','Adult','Mid-age' and 'Senior'\n",
    "def age_binning(train_df,test_df):    \n",
    "    for data in [train_df,test_df]:\n",
    "        data['Age'] =np.where(data['Age'] <=14,'1. Child',\n",
    "                              np.where(((data['Age'] > 14) & (data['Age'] <= 22)),'1. Young',\n",
    "                                       np.where(((data['Age'] > 22) & (data['Age'] <= 36)),'3. Adult',\n",
    "                                                np.where(((data['Age'] > 36) & (data['Age'] <= 55)),'4. Mid-age','5. Senior'))))\n",
    "    return train_df,test_df "
   ]
  },
  {
   "cell_type": "code",
   "execution_count": 29,
   "id": "11b8e5ec",
   "metadata": {},
   "outputs": [],
   "source": [
    "train_df, test_df = age_binning(train_df,test_df)"
   ]
  },
  {
   "cell_type": "code",
   "execution_count": 30,
   "id": "29b753e5",
   "metadata": {},
   "outputs": [
    {
     "name": "stdout",
     "output_type": "stream",
     "text": [
      "\n",
      "\n",
      "Number of Survived passenger by Age :\n",
      "Age\n",
      "1. Child       47\n",
      "1. Young       75\n",
      "3. Adult      148\n",
      "4. Mid-age     60\n",
      "5. Senior      12\n",
      "Name: Age, dtype: int64\n",
      "\n",
      "\n",
      "Number of Dead passenger by Age :\n",
      "Age\n",
      "1. Child       34\n",
      "1. Young      115\n",
      "3. Adult      276\n",
      "4. Mid-age     96\n",
      "5. Senior      28\n",
      "Name: Age, dtype: int64\n"
     ]
    },
    {
     "data": {
      "image/png": "[encoded data removed]",
      "text/plain": [
       "<Figure size 720x720 with 1 Axes>"
      ]
     },
     "metadata": {
      "needs_background": "light"
     },
     "output_type": "display_data"
    }
   ],
   "source": [
    "visualize_data('Age')\n",
    "print_survived_data_by_feature(train_df,'Age')"
   ]
  },
  {
   "cell_type": "markdown",
   "id": "c4d41393",
   "metadata": {},
   "source": [
    "Here, we can see that the adult passenger died mostly and the child passenger survived mostly as we already know the fact of preference during the lifeboat allocation."
   ]
  },
  {
   "cell_type": "markdown",
   "id": "0cb1e639",
   "metadata": {},
   "source": [
    "In the test data fare has 1 missing value . First will indentify the passengerID of that data and then fill the NA value with the median of the Pclass value."
   ]
  },
  {
   "cell_type": "code",
   "execution_count": 31,
   "id": "04d59bec",
   "metadata": {},
   "outputs": [
    {
     "name": "stdout",
     "output_type": "stream",
     "text": [
      "Pclass\n",
      "1    60.2875\n",
      "2    14.2500\n",
      "3     8.0500\n",
      "Name: Fare, dtype: float64\n"
     ]
    }
   ],
   "source": [
    "#pint(train_df.groupby(\"Pclass\")[\"Fare\"].median()[3]) \n",
    "print(train_df.groupby(\"Pclass\")[\"Fare\"].median())"
   ]
  },
  {
   "cell_type": "code",
   "execution_count": 32,
   "id": "8904ab84",
   "metadata": {},
   "outputs": [
    {
     "name": "stdout",
     "output_type": "stream",
     "text": [
      "152    1044\n",
      "Name: PassengerId, dtype: int64\n",
      "Series([], Name: PassengerId, dtype: int64)\n"
     ]
    }
   ],
   "source": [
    "# find the PassengerId of that missing Fare value\n",
    "print(test_df.loc[ test_df['Fare'].isnull()==True]['PassengerId'])\n",
    "test_df.loc[ test_df['Fare'].isnull()==True]\n",
    "#then fill the missing fare value of that passengerID\n",
    "test_df.loc[test_df['PassengerId'] == 1044, 'Fare'] = test_df.groupby(\"Pclass\")[\"Fare\"].median()[3]\n",
    "#check whether that passengerID with NA be found\n",
    "print(test_df.loc[ test_df['Fare'].isnull()==True]['PassengerId'])"
   ]
  },
  {
   "cell_type": "code",
   "execution_count": 33,
   "id": "619de3d8",
   "metadata": {},
   "outputs": [
    {
     "data": {
      "image/png": "[encoded data removed]",
      "text/plain": [
       "<Figure size 915.875x216 with 1 Axes>"
      ]
     },
     "metadata": {
      "needs_background": "light"
     },
     "output_type": "display_data"
    }
   ],
   "source": [
    "# check the survival data with respect of Fare column\n",
    "facet = sns.FacetGrid(train_df, hue=\"Survived\",aspect=4)\n",
    "facet.map(sns.kdeplot,'Fare',shade= True)\n",
    "facet.set(xlim=(0, train_df['Fare'].max()))\n",
    "facet.add_legend()\n",
    "#plt.xlim(0, 30)\n",
    "plt.show()"
   ]
  },
  {
   "cell_type": "code",
   "execution_count": 34,
   "id": "7e80e219",
   "metadata": {},
   "outputs": [
    {
     "data": {
      "image/png": "[encoded data removed]",
      "text/plain": [
       "<Figure size 915.875x216 with 1 Axes>"
      ]
     },
     "metadata": {
      "needs_background": "light"
     },
     "output_type": "display_data"
    }
   ],
   "source": [
    "# we can take a closer look at the beginning of the graph (Zoom in view)\n",
    "facet = sns.FacetGrid(train_df, hue=\"Survived\",aspect=4)\n",
    "facet.map(sns.kdeplot,'Fare',shade= True)\n",
    "facet.set(xlim=(0, train_df['Fare'].max()))\n",
    "facet.add_legend()\n",
    "plt.xlim(0, 30)\n",
    "plt.show()"
   ]
  },
  {
   "cell_type": "markdown",
   "id": "b9f00fdc",
   "metadata": {},
   "source": [
    "We can say that passenger who brought ticker within 10 dollar, the survival rate was low. This might be the reason that these were the 3rd class ticket and we have seen that passenger of 3rd class died mostly."
   ]
  },
  {
   "cell_type": "code",
   "execution_count": 35,
   "id": "f4722441",
   "metadata": {},
   "outputs": [],
   "source": [
    "def fare_binning(train_df,test_df):    \n",
    "    for data in [train_df,test_df]:\n",
    "        data['Fare'] =np.where(data['Fare'] <=15,'Low',\n",
    "                              np.where(((data['Fare'] > 15) & (data['Fare'] <= 35)),'Medium',\n",
    "                                       np.where(((data['Fare'] > 35) & (data['Fare'] <= 100)),'High','Extreme')))\n",
    "    return train_df,test_df "
   ]
  },
  {
   "cell_type": "code",
   "execution_count": 36,
   "id": "c5831f29",
   "metadata": {},
   "outputs": [],
   "source": [
    "train_df, test_df = fare_binning(train_df,test_df)"
   ]
  },
  {
   "cell_type": "code",
   "execution_count": 37,
   "id": "2aa17db8",
   "metadata": {},
   "outputs": [
    {
     "name": "stdout",
     "output_type": "stream",
     "text": [
      "\n",
      "\n",
      "Number of Survived passenger by Fare :\n",
      "Fare\n",
      "Extreme     39\n",
      "High        84\n",
      "Low        114\n",
      "Medium     105\n",
      "Name: Fare, dtype: int64\n",
      "\n",
      "\n",
      "Number of Dead passenger by Fare :\n",
      "Fare\n",
      "Extreme     14\n",
      "High        61\n",
      "Low        344\n",
      "Medium     130\n",
      "Name: Fare, dtype: int64\n"
     ]
    },
    {
     "data": {
      "image/png": "[encoded data removed]",
      "text/plain": [
       "<Figure size 720x720 with 1 Axes>"
      ]
     },
     "metadata": {
      "needs_background": "light"
     },
     "output_type": "display_data"
    }
   ],
   "source": [
    "visualize_data('Fare')\n",
    "print_survived_data_by_feature(train_df,'Fare')"
   ]
  },
  {
   "cell_type": "markdown",
   "id": "c2f8c215",
   "metadata": {},
   "source": [
    "So, we can see that passengers who bought tickets of lower cost died mostly but who brought the ticket with medium,high and extreme price had higher survival rates."
   ]
  },
  {
   "cell_type": "markdown",
   "id": "9b7b973c",
   "metadata": {},
   "source": [
    "From the wikipedia, we know followings:\n",
    "\n",
    ">All three of the Olympic-class ships had ten decks(cabin) \n",
    "(excluding the top of the officers' quarters),\n",
    " eight of which were for passenger use'. \n",
    " \n",
    " \n",
    " From the dataset,we see that cabin has some extra number with it.But, If we extract the first letter from the cabin numbers, we get 8 cabins which matchs with the wiki information."
   ]
  },
  {
   "cell_type": "code",
   "execution_count": 38,
   "id": "bd2d1ff9",
   "metadata": {},
   "outputs": [
    {
     "name": "stdout",
     "output_type": "stream",
     "text": [
      "No of total Cabin(which includes different numbers)148\n",
      "[nan 'C85' 'C123' 'E46' 'G6' 'C103' 'D56' 'A6' 'C23 C25 C27' 'B78' 'D33'\n",
      " 'B30' 'C52' 'B28' 'C83' 'F33' 'F G73' 'E31' 'A5' 'D10 D12' 'D26' 'C110'\n",
      " 'B58 B60' 'E101' 'F E69' 'D47' 'B86' 'F2' 'C2' 'E33' 'B19' 'A7' 'C49'\n",
      " 'F4' 'A32' 'B4' 'B80' 'A31' 'D36' 'D15' 'C93' 'C78' 'D35' 'C87' 'B77'\n",
      " 'E67' 'B94' 'C125' 'C99' 'C118' 'D7' 'A19' 'B49' 'D' 'C22 C26' 'C106'\n",
      " 'C65' 'E36' 'C54' 'B57 B59 B63 B66' 'C7' 'E34' 'C32' 'B18' 'C124' 'C91'\n",
      " 'E40' 'T' 'C128' 'D37' 'B35' 'E50' 'C82' 'B96 B98' 'E10' 'E44' 'A34'\n",
      " 'C104' 'C111' 'C92' 'E38' 'D21' 'E12' 'E63' 'A14' 'B37' 'C30' 'D20' 'B79'\n",
      " 'E25' 'D46' 'B73' 'C95' 'B38' 'B39' 'B22' 'C86' 'C70' 'A16' 'C101' 'C68'\n",
      " 'A10' 'E68' 'B41' 'A20' 'D19' 'D50' 'D9' 'A23' 'B50' 'A26' 'D48' 'E58'\n",
      " 'C126' 'B71' 'B51 B53 B55' 'D49' 'B5' 'B20' 'F G63' 'C62 C64' 'E24' 'C90'\n",
      " 'C45' 'E8' 'B101' 'D45' 'C46' 'D30' 'E121' 'D11' 'E77' 'F38' 'B3' 'D6'\n",
      " 'B82 B84' 'D17' 'A36' 'B102' 'B69' 'E49' 'C47' 'D28' 'E17' 'A24' 'C50'\n",
      " 'B42' 'C148']\n"
     ]
    }
   ],
   "source": [
    "#working with Cabin\n",
    "cbn = train_df['Cabin'].unique()\n",
    "print('No of total Cabin(which includes different numbers)'+str(len(cbn)))\n",
    "print(cbn)"
   ]
  },
  {
   "cell_type": "code",
   "execution_count": 39,
   "id": "b861f1fd",
   "metadata": {},
   "outputs": [],
   "source": [
    "# this function extracts actual cabin letter(information)\n",
    "def cabin_formation(train_df,test_df):\n",
    "    for data in [train_df,test_df]:\n",
    "        data['Cabin'] = data['Cabin'].str[:1]\n",
    "    return train_df,test_df   "
   ]
  },
  {
   "cell_type": "code",
   "execution_count": 40,
   "id": "976cfa1d",
   "metadata": {},
   "outputs": [],
   "source": [
    "train_df, test_df = cabin_formation(train_df,test_df)"
   ]
  },
  {
   "cell_type": "code",
   "execution_count": 41,
   "id": "bf19adf6",
   "metadata": {},
   "outputs": [
    {
     "name": "stdout",
     "output_type": "stream",
     "text": [
      "\n",
      "\n",
      "Number of Survived passenger by Cabin :\n",
      "Cabin\n",
      "A     7\n",
      "B    35\n",
      "C    35\n",
      "D    25\n",
      "E    24\n",
      "F     8\n",
      "G     2\n",
      "Name: Cabin, dtype: int64\n",
      "\n",
      "\n",
      "Number of Dead passenger by Cabin :\n",
      "Cabin\n",
      "A     8\n",
      "B    12\n",
      "C    24\n",
      "D     8\n",
      "E     8\n",
      "F     5\n",
      "G     2\n",
      "T     1\n",
      "Name: Cabin, dtype: int64\n"
     ]
    },
    {
     "data": {
      "image/png": "[encoded data removed]",
      "text/plain": [
       "<Figure size 720x720 with 1 Axes>"
      ]
     },
     "metadata": {
      "needs_background": "light"
     },
     "output_type": "display_data"
    }
   ],
   "source": [
    "visualize_data('Cabin')\n",
    "print_survived_data_by_feature(train_df,'Cabin')"
   ]
  },
  {
   "cell_type": "markdown",
   "id": "e8dc6fcc",
   "metadata": {},
   "source": [
    "Cabins G and A don't fare very well. Cabins B, C, D, E, F have good chances of survival. Cabins are correlated with fare I imagine."
   ]
  },
  {
   "cell_type": "code",
   "execution_count": 42,
   "id": "1cd8ed27",
   "metadata": {},
   "outputs": [
    {
     "data": {
      "text/plain": [
       "<AxesSubplot:>"
      ]
     },
     "execution_count": 42,
     "metadata": {},
     "output_type": "execute_result"
    },
    {
     "data": {
      "image/png": "[encoded data removed]",
      "text/plain": [
       "<Figure size 720x360 with 1 Axes>"
      ]
     },
     "metadata": {
      "needs_background": "light"
     },
     "output_type": "display_data"
    }
   ],
   "source": [
    "class1 = train_df[train_df['Pclass']==1]['Cabin'].value_counts()\n",
    "class2 = train_df[train_df['Pclass']==2]['Cabin'].value_counts()\n",
    "class3 = train_df[train_df['Pclass']==3]['Cabin'].value_counts()\n",
    "df = pd.DataFrame([class1, class2, class3])\n",
    "df.index = ['1st class','2nd class', '3rd class']\n",
    "df.plot(kind='bar',stacked=True, figsize=(10,5))"
   ]
  },
  {
   "cell_type": "markdown",
   "id": "6b353a37",
   "metadata": {},
   "source": [
    "From here, we can delineate that first class has cabin A, B,C,D,E , 2nd class contains cabin D,E,F and 3rd class contains E,F,G. An interesting fact is that every class has a common cabin E which has higher survival rate. Previously we saw that cabin B,C,D,E had higher survival rate. The is reason is that all these cabin is from first class."
   ]
  },
  {
   "cell_type": "markdown",
   "id": "59dc61e8",
   "metadata": {},
   "source": [
    "As around 77% of 'Cabin' data is missing , it would not be a good idea to fill the missing value or use it in our analyis. We gonna remove the 'Cabin' column from our dataset inorder to avoid a biased model."
   ]
  },
  {
   "cell_type": "code",
   "execution_count": 43,
   "id": "51ed9cc7",
   "metadata": {},
   "outputs": [],
   "source": [
    "# Remove 'Cabin' column from dataset\n",
    "train_df.drop(['Cabin'],axis=1,inplace=True)\n",
    "test_df.drop(['Cabin'],axis=1,inplace=True)"
   ]
  },
  {
   "cell_type": "code",
   "execution_count": 44,
   "id": "532bfc62",
   "metadata": {},
   "outputs": [
    {
     "data": {
      "text/plain": [
       "<AxesSubplot:xlabel='Embarked', ylabel='count'>"
      ]
     },
     "execution_count": 44,
     "metadata": {},
     "output_type": "execute_result"
    },
    {
     "data": {
      "image/png": "[encoded data removed]",
      "text/plain": [
       "<Figure size 432x288 with 1 Axes>"
      ]
     },
     "metadata": {
      "needs_background": "light"
     },
     "output_type": "display_data"
    }
   ],
   "source": [
    "#working with Embarked\n",
    "sns.countplot(train_df['Embarked'])"
   ]
  },
  {
   "cell_type": "code",
   "execution_count": 45,
   "id": "cde5406b",
   "metadata": {},
   "outputs": [
    {
     "data": {
      "text/plain": [
       "<AxesSubplot:>"
      ]
     },
     "execution_count": 45,
     "metadata": {},
     "output_type": "execute_result"
    },
    {
     "data": {
      "image/png": "[encoded data removed]",
      "text/plain": [
       "<Figure size 720x360 with 1 Axes>"
      ]
     },
     "metadata": {
      "needs_background": "light"
     },
     "output_type": "display_data"
    }
   ],
   "source": [
    "\n",
    "Pclass1 = train_df[train_df['Pclass']==1]['Embarked'].value_counts()\n",
    "Pclass2 = train_df[train_df['Pclass']==2]['Embarked'].value_counts()\n",
    "Pclass3 = train_df[train_df['Pclass']==3]['Embarked'].value_counts()\n",
    "df = pd.DataFrame([Pclass1, Pclass2, Pclass3])\n",
    "df.index = ['1st class','2nd class', '3rd class']\n",
    "df.plot(kind='bar',stacked=True, figsize=(10,5))"
   ]
  },
  {
   "cell_type": "markdown",
   "id": "7925c5dd",
   "metadata": {},
   "source": [
    "We also can infer that most of the 3rd class passengers were from Southampton or Queenstown. At that time in history, these wore working class cities and probably people wanted to move to America searching for work. This explains why there were many 3rd class passengers from the Southampton/ Queenstown."
   ]
  },
  {
   "cell_type": "code",
   "execution_count": 46,
   "id": "6dff59d1",
   "metadata": {},
   "outputs": [],
   "source": [
    "#as most of the passenger came from Southampton, we fill the missing value of 'Embarked' column with 'S'\n",
    "def fill_missing_embarked(train_df,test_df):\n",
    "    for data in [train_df,test_df]:\n",
    "        data[\"Embarked\"]=data[\"Embarked\"].fillna('S')\n",
    "    return train_df,test_df"
   ]
  },
  {
   "cell_type": "code",
   "execution_count": 47,
   "id": "2cf427c2",
   "metadata": {},
   "outputs": [],
   "source": [
    "train_df, test_df = fill_missing_embarked(train_df,test_df)"
   ]
  },
  {
   "cell_type": "code",
   "execution_count": 48,
   "id": "3a4501be",
   "metadata": {},
   "outputs": [
    {
     "data": {
      "text/plain": [
       "PassengerId    0\n",
       "Survived       0\n",
       "Pclass         0\n",
       "Sex            0\n",
       "Age            0\n",
       "Ticket         0\n",
       "Fare           0\n",
       "Embarked       0\n",
       "Title          0\n",
       "FamilySize     0\n",
       "dtype: int64"
      ]
     },
     "execution_count": 48,
     "metadata": {},
     "output_type": "execute_result"
    }
   ],
   "source": [
    "# so now, we dont have any missing value in our dataset\n",
    "train_df.isnull().sum()"
   ]
  },
  {
   "cell_type": "code",
   "execution_count": 49,
   "id": "918f21a6",
   "metadata": {},
   "outputs": [
    {
     "name": "stdout",
     "output_type": "stream",
     "text": [
      "\n",
      "\n",
      "Number of Survived passenger by Embarked :\n",
      "Embarked\n",
      "C     93\n",
      "Q     30\n",
      "S    219\n",
      "Name: Embarked, dtype: int64\n",
      "\n",
      "\n",
      "Number of Dead passenger by Embarked :\n",
      "Embarked\n",
      "C     75\n",
      "Q     47\n",
      "S    427\n",
      "Name: Embarked, dtype: int64\n"
     ]
    },
    {
     "data": {
      "image/png": "[encoded data removed]",
      "text/plain": [
       "<Figure size 720x720 with 1 Axes>"
      ]
     },
     "metadata": {
      "needs_background": "light"
     },
     "output_type": "display_data"
    }
   ],
   "source": [
    "visualize_data('Embarked')\n",
    "print_survived_data_by_feature(train_df,'Embarked')"
   ]
  },
  {
   "cell_type": "code",
   "execution_count": 50,
   "id": "f2c285d4",
   "metadata": {},
   "outputs": [
    {
     "data": {
      "text/html": [
       "<div>\n",
       "<style scoped>\n",
       "    .dataframe tbody tr th:only-of-type {\n",
       "        vertical-align: middle;\n",
       "    }\n",
       "\n",
       "    .dataframe tbody tr th {\n",
       "        vertical-align: top;\n",
       "    }\n",
       "\n",
       "    .dataframe thead th {\n",
       "        text-align: right;\n",
       "    }\n",
       "</style>\n",
       "<table border=\"1\" class=\"dataframe\">\n",
       "  <thead>\n",
       "    <tr style=\"text-align: right;\">\n",
       "      <th></th>\n",
       "      <th>PassengerId</th>\n",
       "      <th>Survived</th>\n",
       "      <th>Pclass</th>\n",
       "      <th>Sex</th>\n",
       "      <th>Age</th>\n",
       "      <th>Ticket</th>\n",
       "      <th>Fare</th>\n",
       "      <th>Embarked</th>\n",
       "      <th>Title</th>\n",
       "      <th>FamilySize</th>\n",
       "    </tr>\n",
       "  </thead>\n",
       "  <tbody>\n",
       "    <tr>\n",
       "      <th>0</th>\n",
       "      <td>1</td>\n",
       "      <td>0</td>\n",
       "      <td>3</td>\n",
       "      <td>male</td>\n",
       "      <td>1. Young</td>\n",
       "      <td>A/5 21171</td>\n",
       "      <td>Low</td>\n",
       "      <td>S</td>\n",
       "      <td>Mr</td>\n",
       "      <td>Small</td>\n",
       "    </tr>\n",
       "    <tr>\n",
       "      <th>1</th>\n",
       "      <td>2</td>\n",
       "      <td>1</td>\n",
       "      <td>1</td>\n",
       "      <td>female</td>\n",
       "      <td>4. Mid-age</td>\n",
       "      <td>PC 17599</td>\n",
       "      <td>High</td>\n",
       "      <td>C</td>\n",
       "      <td>Mrs</td>\n",
       "      <td>Small</td>\n",
       "    </tr>\n",
       "    <tr>\n",
       "      <th>2</th>\n",
       "      <td>3</td>\n",
       "      <td>1</td>\n",
       "      <td>3</td>\n",
       "      <td>female</td>\n",
       "      <td>3. Adult</td>\n",
       "      <td>STON/O2. 3101282</td>\n",
       "      <td>Low</td>\n",
       "      <td>S</td>\n",
       "      <td>Miss</td>\n",
       "      <td>Single</td>\n",
       "    </tr>\n",
       "    <tr>\n",
       "      <th>3</th>\n",
       "      <td>4</td>\n",
       "      <td>1</td>\n",
       "      <td>1</td>\n",
       "      <td>female</td>\n",
       "      <td>3. Adult</td>\n",
       "      <td>113803</td>\n",
       "      <td>High</td>\n",
       "      <td>S</td>\n",
       "      <td>Mrs</td>\n",
       "      <td>Small</td>\n",
       "    </tr>\n",
       "    <tr>\n",
       "      <th>4</th>\n",
       "      <td>5</td>\n",
       "      <td>0</td>\n",
       "      <td>3</td>\n",
       "      <td>male</td>\n",
       "      <td>3. Adult</td>\n",
       "      <td>373450</td>\n",
       "      <td>Low</td>\n",
       "      <td>S</td>\n",
       "      <td>Mr</td>\n",
       "      <td>Single</td>\n",
       "    </tr>\n",
       "    <tr>\n",
       "      <th>5</th>\n",
       "      <td>6</td>\n",
       "      <td>0</td>\n",
       "      <td>3</td>\n",
       "      <td>male</td>\n",
       "      <td>3. Adult</td>\n",
       "      <td>330877</td>\n",
       "      <td>Low</td>\n",
       "      <td>Q</td>\n",
       "      <td>Mr</td>\n",
       "      <td>Single</td>\n",
       "    </tr>\n",
       "    <tr>\n",
       "      <th>6</th>\n",
       "      <td>7</td>\n",
       "      <td>0</td>\n",
       "      <td>1</td>\n",
       "      <td>male</td>\n",
       "      <td>4. Mid-age</td>\n",
       "      <td>17463</td>\n",
       "      <td>High</td>\n",
       "      <td>S</td>\n",
       "      <td>Mr</td>\n",
       "      <td>Single</td>\n",
       "    </tr>\n",
       "    <tr>\n",
       "      <th>7</th>\n",
       "      <td>8</td>\n",
       "      <td>0</td>\n",
       "      <td>3</td>\n",
       "      <td>male</td>\n",
       "      <td>1. Child</td>\n",
       "      <td>349909</td>\n",
       "      <td>Medium</td>\n",
       "      <td>S</td>\n",
       "      <td>Master</td>\n",
       "      <td>Big</td>\n",
       "    </tr>\n",
       "    <tr>\n",
       "      <th>8</th>\n",
       "      <td>9</td>\n",
       "      <td>1</td>\n",
       "      <td>3</td>\n",
       "      <td>female</td>\n",
       "      <td>3. Adult</td>\n",
       "      <td>347742</td>\n",
       "      <td>Low</td>\n",
       "      <td>S</td>\n",
       "      <td>Mrs</td>\n",
       "      <td>Small</td>\n",
       "    </tr>\n",
       "    <tr>\n",
       "      <th>9</th>\n",
       "      <td>10</td>\n",
       "      <td>1</td>\n",
       "      <td>2</td>\n",
       "      <td>female</td>\n",
       "      <td>1. Child</td>\n",
       "      <td>237736</td>\n",
       "      <td>Medium</td>\n",
       "      <td>C</td>\n",
       "      <td>Mrs</td>\n",
       "      <td>Small</td>\n",
       "    </tr>\n",
       "    <tr>\n",
       "      <th>10</th>\n",
       "      <td>11</td>\n",
       "      <td>1</td>\n",
       "      <td>3</td>\n",
       "      <td>female</td>\n",
       "      <td>1. Child</td>\n",
       "      <td>PP 9549</td>\n",
       "      <td>Medium</td>\n",
       "      <td>S</td>\n",
       "      <td>Miss</td>\n",
       "      <td>Small</td>\n",
       "    </tr>\n",
       "    <tr>\n",
       "      <th>11</th>\n",
       "      <td>12</td>\n",
       "      <td>1</td>\n",
       "      <td>1</td>\n",
       "      <td>female</td>\n",
       "      <td>5. Senior</td>\n",
       "      <td>113783</td>\n",
       "      <td>Medium</td>\n",
       "      <td>S</td>\n",
       "      <td>Miss</td>\n",
       "      <td>Single</td>\n",
       "    </tr>\n",
       "    <tr>\n",
       "      <th>12</th>\n",
       "      <td>13</td>\n",
       "      <td>0</td>\n",
       "      <td>3</td>\n",
       "      <td>male</td>\n",
       "      <td>1. Young</td>\n",
       "      <td>A/5. 2151</td>\n",
       "      <td>Low</td>\n",
       "      <td>S</td>\n",
       "      <td>Mr</td>\n",
       "      <td>Single</td>\n",
       "    </tr>\n",
       "    <tr>\n",
       "      <th>13</th>\n",
       "      <td>14</td>\n",
       "      <td>0</td>\n",
       "      <td>3</td>\n",
       "      <td>male</td>\n",
       "      <td>4. Mid-age</td>\n",
       "      <td>347082</td>\n",
       "      <td>Medium</td>\n",
       "      <td>S</td>\n",
       "      <td>Mr</td>\n",
       "      <td>Big</td>\n",
       "    </tr>\n",
       "    <tr>\n",
       "      <th>14</th>\n",
       "      <td>15</td>\n",
       "      <td>0</td>\n",
       "      <td>3</td>\n",
       "      <td>female</td>\n",
       "      <td>1. Child</td>\n",
       "      <td>350406</td>\n",
       "      <td>Low</td>\n",
       "      <td>S</td>\n",
       "      <td>Miss</td>\n",
       "      <td>Single</td>\n",
       "    </tr>\n",
       "    <tr>\n",
       "      <th>15</th>\n",
       "      <td>16</td>\n",
       "      <td>1</td>\n",
       "      <td>2</td>\n",
       "      <td>female</td>\n",
       "      <td>4. Mid-age</td>\n",
       "      <td>248706</td>\n",
       "      <td>Medium</td>\n",
       "      <td>S</td>\n",
       "      <td>Mrs</td>\n",
       "      <td>Single</td>\n",
       "    </tr>\n",
       "    <tr>\n",
       "      <th>16</th>\n",
       "      <td>17</td>\n",
       "      <td>0</td>\n",
       "      <td>3</td>\n",
       "      <td>male</td>\n",
       "      <td>1. Child</td>\n",
       "      <td>382652</td>\n",
       "      <td>Medium</td>\n",
       "      <td>Q</td>\n",
       "      <td>Master</td>\n",
       "      <td>Big</td>\n",
       "    </tr>\n",
       "    <tr>\n",
       "      <th>17</th>\n",
       "      <td>18</td>\n",
       "      <td>1</td>\n",
       "      <td>2</td>\n",
       "      <td>male</td>\n",
       "      <td>3. Adult</td>\n",
       "      <td>244373</td>\n",
       "      <td>Low</td>\n",
       "      <td>S</td>\n",
       "      <td>Mr</td>\n",
       "      <td>Single</td>\n",
       "    </tr>\n",
       "    <tr>\n",
       "      <th>18</th>\n",
       "      <td>19</td>\n",
       "      <td>0</td>\n",
       "      <td>3</td>\n",
       "      <td>female</td>\n",
       "      <td>3. Adult</td>\n",
       "      <td>345763</td>\n",
       "      <td>Medium</td>\n",
       "      <td>S</td>\n",
       "      <td>Mrs</td>\n",
       "      <td>Small</td>\n",
       "    </tr>\n",
       "    <tr>\n",
       "      <th>19</th>\n",
       "      <td>20</td>\n",
       "      <td>1</td>\n",
       "      <td>3</td>\n",
       "      <td>female</td>\n",
       "      <td>3. Adult</td>\n",
       "      <td>2649</td>\n",
       "      <td>Low</td>\n",
       "      <td>C</td>\n",
       "      <td>Mrs</td>\n",
       "      <td>Single</td>\n",
       "    </tr>\n",
       "    <tr>\n",
       "      <th>20</th>\n",
       "      <td>21</td>\n",
       "      <td>0</td>\n",
       "      <td>2</td>\n",
       "      <td>male</td>\n",
       "      <td>3. Adult</td>\n",
       "      <td>239865</td>\n",
       "      <td>Medium</td>\n",
       "      <td>S</td>\n",
       "      <td>Mr</td>\n",
       "      <td>Single</td>\n",
       "    </tr>\n",
       "    <tr>\n",
       "      <th>21</th>\n",
       "      <td>22</td>\n",
       "      <td>1</td>\n",
       "      <td>2</td>\n",
       "      <td>male</td>\n",
       "      <td>3. Adult</td>\n",
       "      <td>248698</td>\n",
       "      <td>Low</td>\n",
       "      <td>S</td>\n",
       "      <td>Mr</td>\n",
       "      <td>Single</td>\n",
       "    </tr>\n",
       "    <tr>\n",
       "      <th>22</th>\n",
       "      <td>23</td>\n",
       "      <td>1</td>\n",
       "      <td>3</td>\n",
       "      <td>female</td>\n",
       "      <td>1. Young</td>\n",
       "      <td>330923</td>\n",
       "      <td>Low</td>\n",
       "      <td>Q</td>\n",
       "      <td>Miss</td>\n",
       "      <td>Single</td>\n",
       "    </tr>\n",
       "    <tr>\n",
       "      <th>23</th>\n",
       "      <td>24</td>\n",
       "      <td>1</td>\n",
       "      <td>1</td>\n",
       "      <td>male</td>\n",
       "      <td>3. Adult</td>\n",
       "      <td>113788</td>\n",
       "      <td>High</td>\n",
       "      <td>S</td>\n",
       "      <td>Mr</td>\n",
       "      <td>Single</td>\n",
       "    </tr>\n",
       "    <tr>\n",
       "      <th>24</th>\n",
       "      <td>25</td>\n",
       "      <td>0</td>\n",
       "      <td>3</td>\n",
       "      <td>female</td>\n",
       "      <td>1. Child</td>\n",
       "      <td>349909</td>\n",
       "      <td>Medium</td>\n",
       "      <td>S</td>\n",
       "      <td>Miss</td>\n",
       "      <td>Big</td>\n",
       "    </tr>\n",
       "    <tr>\n",
       "      <th>25</th>\n",
       "      <td>26</td>\n",
       "      <td>1</td>\n",
       "      <td>3</td>\n",
       "      <td>female</td>\n",
       "      <td>4. Mid-age</td>\n",
       "      <td>347077</td>\n",
       "      <td>Medium</td>\n",
       "      <td>S</td>\n",
       "      <td>Mrs</td>\n",
       "      <td>Big</td>\n",
       "    </tr>\n",
       "    <tr>\n",
       "      <th>26</th>\n",
       "      <td>27</td>\n",
       "      <td>0</td>\n",
       "      <td>3</td>\n",
       "      <td>male</td>\n",
       "      <td>3. Adult</td>\n",
       "      <td>2631</td>\n",
       "      <td>Low</td>\n",
       "      <td>C</td>\n",
       "      <td>Mr</td>\n",
       "      <td>Single</td>\n",
       "    </tr>\n",
       "    <tr>\n",
       "      <th>27</th>\n",
       "      <td>28</td>\n",
       "      <td>0</td>\n",
       "      <td>1</td>\n",
       "      <td>male</td>\n",
       "      <td>1. Young</td>\n",
       "      <td>19950</td>\n",
       "      <td>Extreme</td>\n",
       "      <td>S</td>\n",
       "      <td>Mr</td>\n",
       "      <td>Big</td>\n",
       "    </tr>\n",
       "    <tr>\n",
       "      <th>28</th>\n",
       "      <td>29</td>\n",
       "      <td>1</td>\n",
       "      <td>3</td>\n",
       "      <td>female</td>\n",
       "      <td>1. Young</td>\n",
       "      <td>330959</td>\n",
       "      <td>Low</td>\n",
       "      <td>Q</td>\n",
       "      <td>Miss</td>\n",
       "      <td>Single</td>\n",
       "    </tr>\n",
       "    <tr>\n",
       "      <th>29</th>\n",
       "      <td>30</td>\n",
       "      <td>0</td>\n",
       "      <td>3</td>\n",
       "      <td>male</td>\n",
       "      <td>3. Adult</td>\n",
       "      <td>349216</td>\n",
       "      <td>Low</td>\n",
       "      <td>S</td>\n",
       "      <td>Mr</td>\n",
       "      <td>Single</td>\n",
       "    </tr>\n",
       "    <tr>\n",
       "      <th>30</th>\n",
       "      <td>31</td>\n",
       "      <td>0</td>\n",
       "      <td>1</td>\n",
       "      <td>male</td>\n",
       "      <td>4. Mid-age</td>\n",
       "      <td>PC 17601</td>\n",
       "      <td>Medium</td>\n",
       "      <td>C</td>\n",
       "      <td>Others</td>\n",
       "      <td>Single</td>\n",
       "    </tr>\n",
       "    <tr>\n",
       "      <th>31</th>\n",
       "      <td>32</td>\n",
       "      <td>1</td>\n",
       "      <td>1</td>\n",
       "      <td>female</td>\n",
       "      <td>3. Adult</td>\n",
       "      <td>PC 17569</td>\n",
       "      <td>Extreme</td>\n",
       "      <td>C</td>\n",
       "      <td>Mrs</td>\n",
       "      <td>Small</td>\n",
       "    </tr>\n",
       "    <tr>\n",
       "      <th>32</th>\n",
       "      <td>33</td>\n",
       "      <td>1</td>\n",
       "      <td>3</td>\n",
       "      <td>female</td>\n",
       "      <td>1. Young</td>\n",
       "      <td>335677</td>\n",
       "      <td>Low</td>\n",
       "      <td>Q</td>\n",
       "      <td>Miss</td>\n",
       "      <td>Single</td>\n",
       "    </tr>\n",
       "    <tr>\n",
       "      <th>33</th>\n",
       "      <td>34</td>\n",
       "      <td>0</td>\n",
       "      <td>2</td>\n",
       "      <td>male</td>\n",
       "      <td>5. Senior</td>\n",
       "      <td>C.A. 24579</td>\n",
       "      <td>Low</td>\n",
       "      <td>S</td>\n",
       "      <td>Mr</td>\n",
       "      <td>Single</td>\n",
       "    </tr>\n",
       "    <tr>\n",
       "      <th>34</th>\n",
       "      <td>35</td>\n",
       "      <td>0</td>\n",
       "      <td>1</td>\n",
       "      <td>male</td>\n",
       "      <td>3. Adult</td>\n",
       "      <td>PC 17604</td>\n",
       "      <td>High</td>\n",
       "      <td>C</td>\n",
       "      <td>Mr</td>\n",
       "      <td>Small</td>\n",
       "    </tr>\n",
       "    <tr>\n",
       "      <th>35</th>\n",
       "      <td>36</td>\n",
       "      <td>0</td>\n",
       "      <td>1</td>\n",
       "      <td>male</td>\n",
       "      <td>4. Mid-age</td>\n",
       "      <td>113789</td>\n",
       "      <td>High</td>\n",
       "      <td>S</td>\n",
       "      <td>Mr</td>\n",
       "      <td>Small</td>\n",
       "    </tr>\n",
       "    <tr>\n",
       "      <th>36</th>\n",
       "      <td>37</td>\n",
       "      <td>1</td>\n",
       "      <td>3</td>\n",
       "      <td>male</td>\n",
       "      <td>3. Adult</td>\n",
       "      <td>2677</td>\n",
       "      <td>Low</td>\n",
       "      <td>C</td>\n",
       "      <td>Mr</td>\n",
       "      <td>Single</td>\n",
       "    </tr>\n",
       "    <tr>\n",
       "      <th>37</th>\n",
       "      <td>38</td>\n",
       "      <td>0</td>\n",
       "      <td>3</td>\n",
       "      <td>male</td>\n",
       "      <td>1. Young</td>\n",
       "      <td>A./5. 2152</td>\n",
       "      <td>Low</td>\n",
       "      <td>S</td>\n",
       "      <td>Mr</td>\n",
       "      <td>Single</td>\n",
       "    </tr>\n",
       "    <tr>\n",
       "      <th>38</th>\n",
       "      <td>39</td>\n",
       "      <td>0</td>\n",
       "      <td>3</td>\n",
       "      <td>female</td>\n",
       "      <td>1. Young</td>\n",
       "      <td>345764</td>\n",
       "      <td>Medium</td>\n",
       "      <td>S</td>\n",
       "      <td>Miss</td>\n",
       "      <td>Small</td>\n",
       "    </tr>\n",
       "    <tr>\n",
       "      <th>39</th>\n",
       "      <td>40</td>\n",
       "      <td>1</td>\n",
       "      <td>3</td>\n",
       "      <td>female</td>\n",
       "      <td>1. Child</td>\n",
       "      <td>2651</td>\n",
       "      <td>Low</td>\n",
       "      <td>C</td>\n",
       "      <td>Miss</td>\n",
       "      <td>Small</td>\n",
       "    </tr>\n",
       "    <tr>\n",
       "      <th>40</th>\n",
       "      <td>41</td>\n",
       "      <td>0</td>\n",
       "      <td>3</td>\n",
       "      <td>female</td>\n",
       "      <td>4. Mid-age</td>\n",
       "      <td>7546</td>\n",
       "      <td>Low</td>\n",
       "      <td>S</td>\n",
       "      <td>Mrs</td>\n",
       "      <td>Small</td>\n",
       "    </tr>\n",
       "    <tr>\n",
       "      <th>41</th>\n",
       "      <td>42</td>\n",
       "      <td>0</td>\n",
       "      <td>2</td>\n",
       "      <td>female</td>\n",
       "      <td>3. Adult</td>\n",
       "      <td>11668</td>\n",
       "      <td>Medium</td>\n",
       "      <td>S</td>\n",
       "      <td>Mrs</td>\n",
       "      <td>Small</td>\n",
       "    </tr>\n",
       "    <tr>\n",
       "      <th>42</th>\n",
       "      <td>43</td>\n",
       "      <td>0</td>\n",
       "      <td>3</td>\n",
       "      <td>male</td>\n",
       "      <td>3. Adult</td>\n",
       "      <td>349253</td>\n",
       "      <td>Low</td>\n",
       "      <td>C</td>\n",
       "      <td>Mr</td>\n",
       "      <td>Single</td>\n",
       "    </tr>\n",
       "    <tr>\n",
       "      <th>43</th>\n",
       "      <td>44</td>\n",
       "      <td>1</td>\n",
       "      <td>2</td>\n",
       "      <td>female</td>\n",
       "      <td>1. Child</td>\n",
       "      <td>SC/Paris 2123</td>\n",
       "      <td>High</td>\n",
       "      <td>C</td>\n",
       "      <td>Miss</td>\n",
       "      <td>Big</td>\n",
       "    </tr>\n",
       "    <tr>\n",
       "      <th>44</th>\n",
       "      <td>45</td>\n",
       "      <td>1</td>\n",
       "      <td>3</td>\n",
       "      <td>female</td>\n",
       "      <td>1. Young</td>\n",
       "      <td>330958</td>\n",
       "      <td>Low</td>\n",
       "      <td>Q</td>\n",
       "      <td>Miss</td>\n",
       "      <td>Single</td>\n",
       "    </tr>\n",
       "    <tr>\n",
       "      <th>45</th>\n",
       "      <td>46</td>\n",
       "      <td>0</td>\n",
       "      <td>3</td>\n",
       "      <td>male</td>\n",
       "      <td>3. Adult</td>\n",
       "      <td>S.C./A.4. 23567</td>\n",
       "      <td>Low</td>\n",
       "      <td>S</td>\n",
       "      <td>Mr</td>\n",
       "      <td>Single</td>\n",
       "    </tr>\n",
       "    <tr>\n",
       "      <th>46</th>\n",
       "      <td>47</td>\n",
       "      <td>0</td>\n",
       "      <td>3</td>\n",
       "      <td>male</td>\n",
       "      <td>3. Adult</td>\n",
       "      <td>370371</td>\n",
       "      <td>Medium</td>\n",
       "      <td>Q</td>\n",
       "      <td>Mr</td>\n",
       "      <td>Small</td>\n",
       "    </tr>\n",
       "    <tr>\n",
       "      <th>47</th>\n",
       "      <td>48</td>\n",
       "      <td>1</td>\n",
       "      <td>3</td>\n",
       "      <td>female</td>\n",
       "      <td>1. Young</td>\n",
       "      <td>14311</td>\n",
       "      <td>Low</td>\n",
       "      <td>Q</td>\n",
       "      <td>Miss</td>\n",
       "      <td>Single</td>\n",
       "    </tr>\n",
       "    <tr>\n",
       "      <th>48</th>\n",
       "      <td>49</td>\n",
       "      <td>0</td>\n",
       "      <td>3</td>\n",
       "      <td>male</td>\n",
       "      <td>3. Adult</td>\n",
       "      <td>2662</td>\n",
       "      <td>Medium</td>\n",
       "      <td>C</td>\n",
       "      <td>Mr</td>\n",
       "      <td>Small</td>\n",
       "    </tr>\n",
       "    <tr>\n",
       "      <th>49</th>\n",
       "      <td>50</td>\n",
       "      <td>0</td>\n",
       "      <td>3</td>\n",
       "      <td>female</td>\n",
       "      <td>1. Young</td>\n",
       "      <td>349237</td>\n",
       "      <td>Medium</td>\n",
       "      <td>S</td>\n",
       "      <td>Mrs</td>\n",
       "      <td>Small</td>\n",
       "    </tr>\n",
       "  </tbody>\n",
       "</table>\n",
       "</div>"
      ],
      "text/plain": [
       "    PassengerId  Survived  Pclass     Sex         Age            Ticket  \\\n",
       "0             1         0       3    male    1. Young         A/5 21171   \n",
       "1             2         1       1  female  4. Mid-age          PC 17599   \n",
       "2             3         1       3  female    3. Adult  STON/O2. 3101282   \n",
       "3             4         1       1  female    3. Adult            113803   \n",
       "4             5         0       3    male    3. Adult            373450   \n",
       "5             6         0       3    male    3. Adult            330877   \n",
       "6             7         0       1    male  4. Mid-age             17463   \n",
       "7             8         0       3    male    1. Child            349909   \n",
       "8             9         1       3  female    3. Adult            347742   \n",
       "9            10         1       2  female    1. Child            237736   \n",
       "10           11         1       3  female    1. Child           PP 9549   \n",
       "11           12         1       1  female   5. Senior            113783   \n",
       "12           13         0       3    male    1. Young         A/5. 2151   \n",
       "13           14         0       3    male  4. Mid-age            347082   \n",
       "14           15         0       3  female    1. Child            350406   \n",
       "15           16         1       2  female  4. Mid-age            248706   \n",
       "16           17         0       3    male    1. Child            382652   \n",
       "17           18         1       2    male    3. Adult            244373   \n",
       "18           19         0       3  female    3. Adult            345763   \n",
       "19           20         1       3  female    3. Adult              2649   \n",
       "20           21         0       2    male    3. Adult            239865   \n",
       "21           22         1       2    male    3. Adult            248698   \n",
       "22           23         1       3  female    1. Young            330923   \n",
       "23           24         1       1    male    3. Adult            113788   \n",
       "24           25         0       3  female    1. Child            349909   \n",
       "25           26         1       3  female  4. Mid-age            347077   \n",
       "26           27         0       3    male    3. Adult              2631   \n",
       "27           28         0       1    male    1. Young             19950   \n",
       "28           29         1       3  female    1. Young            330959   \n",
       "29           30         0       3    male    3. Adult            349216   \n",
       "30           31         0       1    male  4. Mid-age          PC 17601   \n",
       "31           32         1       1  female    3. Adult          PC 17569   \n",
       "32           33         1       3  female    1. Young            335677   \n",
       "33           34         0       2    male   5. Senior        C.A. 24579   \n",
       "34           35         0       1    male    3. Adult          PC 17604   \n",
       "35           36         0       1    male  4. Mid-age            113789   \n",
       "36           37         1       3    male    3. Adult              2677   \n",
       "37           38         0       3    male    1. Young        A./5. 2152   \n",
       "38           39         0       3  female    1. Young            345764   \n",
       "39           40         1       3  female    1. Child              2651   \n",
       "40           41         0       3  female  4. Mid-age              7546   \n",
       "41           42         0       2  female    3. Adult             11668   \n",
       "42           43         0       3    male    3. Adult            349253   \n",
       "43           44         1       2  female    1. Child     SC/Paris 2123   \n",
       "44           45         1       3  female    1. Young            330958   \n",
       "45           46         0       3    male    3. Adult   S.C./A.4. 23567   \n",
       "46           47         0       3    male    3. Adult            370371   \n",
       "47           48         1       3  female    1. Young             14311   \n",
       "48           49         0       3    male    3. Adult              2662   \n",
       "49           50         0       3  female    1. Young            349237   \n",
       "\n",
       "       Fare Embarked   Title FamilySize  \n",
       "0       Low        S      Mr      Small  \n",
       "1      High        C     Mrs      Small  \n",
       "2       Low        S    Miss     Single  \n",
       "3      High        S     Mrs      Small  \n",
       "4       Low        S      Mr     Single  \n",
       "5       Low        Q      Mr     Single  \n",
       "6      High        S      Mr     Single  \n",
       "7    Medium        S  Master        Big  \n",
       "8       Low        S     Mrs      Small  \n",
       "9    Medium        C     Mrs      Small  \n",
       "10   Medium        S    Miss      Small  \n",
       "11   Medium        S    Miss     Single  \n",
       "12      Low        S      Mr     Single  \n",
       "13   Medium        S      Mr        Big  \n",
       "14      Low        S    Miss     Single  \n",
       "15   Medium        S     Mrs     Single  \n",
       "16   Medium        Q  Master        Big  \n",
       "17      Low        S      Mr     Single  \n",
       "18   Medium        S     Mrs      Small  \n",
       "19      Low        C     Mrs     Single  \n",
       "20   Medium        S      Mr     Single  \n",
       "21      Low        S      Mr     Single  \n",
       "22      Low        Q    Miss     Single  \n",
       "23     High        S      Mr     Single  \n",
       "24   Medium        S    Miss        Big  \n",
       "25   Medium        S     Mrs        Big  \n",
       "26      Low        C      Mr     Single  \n",
       "27  Extreme        S      Mr        Big  \n",
       "28      Low        Q    Miss     Single  \n",
       "29      Low        S      Mr     Single  \n",
       "30   Medium        C  Others     Single  \n",
       "31  Extreme        C     Mrs      Small  \n",
       "32      Low        Q    Miss     Single  \n",
       "33      Low        S      Mr     Single  \n",
       "34     High        C      Mr      Small  \n",
       "35     High        S      Mr      Small  \n",
       "36      Low        C      Mr     Single  \n",
       "37      Low        S      Mr     Single  \n",
       "38   Medium        S    Miss      Small  \n",
       "39      Low        C    Miss      Small  \n",
       "40      Low        S     Mrs      Small  \n",
       "41   Medium        S     Mrs      Small  \n",
       "42      Low        C      Mr     Single  \n",
       "43     High        C    Miss        Big  \n",
       "44      Low        Q    Miss     Single  \n",
       "45      Low        S      Mr     Single  \n",
       "46   Medium        Q      Mr      Small  \n",
       "47      Low        Q    Miss     Single  \n",
       "48   Medium        C      Mr      Small  \n",
       "49   Medium        S     Mrs      Small  "
      ]
     },
     "execution_count": 50,
     "metadata": {},
     "output_type": "execute_result"
    }
   ],
   "source": [
    "train_df.head(50)"
   ]
  },
  {
   "cell_type": "markdown",
   "id": "98305b86",
   "metadata": {},
   "source": [
    "I didn't find any uses or any relation with Ticket column data, hence i have decided to drop the 'Ticket' column from the dataset.\n",
    "Crew is not included in this passenger list. "
   ]
  },
  {
   "cell_type": "code",
   "execution_count": 51,
   "id": "9c2c6ab4",
   "metadata": {},
   "outputs": [],
   "source": [
    "train_df.drop(['Ticket'],axis=1,inplace=True)\n",
    "test_df.drop(['Ticket'],axis=1,inplace=True)"
   ]
  },
  {
   "cell_type": "markdown",
   "id": "f787b144",
   "metadata": {},
   "source": [
    "#### Encoding categorical values\n",
    "As 'Sex' has two values(male or female) and they dont have any order. So, in this case we should use label encoding. Similarly, 'Embarked' and 'Title' column values have no order and we will use label encoding for these. On the otherhand, 'Pclass','Age','Fare','FamilySize' columns have order. So, we will use ordinal encoding for these columns."
   ]
  },
  {
   "cell_type": "code",
   "execution_count": 52,
   "id": "2eb07336",
   "metadata": {},
   "outputs": [],
   "source": [
    "# this function encodes feature with ordinal encodeing where order matters  \n",
    "def ordinal_encoding(feature,mapping):\n",
    "    for data in [train_df,test_df]:\n",
    "        data[feature] = data[feature].map(mapping)"
   ]
  },
  {
   "cell_type": "code",
   "execution_count": 56,
   "id": "4cc87a6b",
   "metadata": {},
   "outputs": [],
   "source": [
    "# # this function encodes feature with label encodeing by creating new columns with each values\n",
    "def label_encoding(feature):\n",
    "    train=pd.get_dummies(train_df,columns=[feature]) #,drop_first=True\n",
    "    test=pd.get_dummies(test_df,columns=[feature]) #,drop_first=True\n",
    "    return train,test"
   ]
  },
  {
   "cell_type": "code",
   "execution_count": 57,
   "id": "adf1a111",
   "metadata": {},
   "outputs": [],
   "source": [
    "#encoding technique one with mix(label,ordinal) encoding\n",
    "#def encoding_technique_one():\n",
    "#map 'Sex' column \n",
    "train_df,test_df=label_encoding('Sex')\n",
    "#map 'Age' column \n",
    "ordinal_encoding('Age',{'1. Child':0,'1. Young':1,'3. Adult':2,'4. Mid-age':3,'5. Senior':4})\n",
    "#map 'Pclass' column \n",
    " #already in order\n",
    "#map 'Fare' column \n",
    "ordinal_encoding('Fare',{'Low':0,'Medium':1,'High':2,'Extreme':3})\n",
    "#map 'Embarked' column \n",
    "train_df,test_df=label_encoding('Embarked')\n",
    "#map 'Title' column \n",
    "train_df,test_df=label_encoding('Title')\n",
    "#map 'FamilySize' column \n",
    "ordinal_encoding('FamilySize',{'Single':0,'Small':1,'Big':2})"
   ]
  },
  {
   "cell_type": "code",
   "execution_count": 58,
   "id": "0e44ae01",
   "metadata": {},
   "outputs": [],
   "source": [
    "train_df.drop(['PassengerId'],axis=1,inplace=True)\n",
    "test_df.drop(['PassengerId'],axis=1,inplace=True)"
   ]
  },
  {
   "cell_type": "code",
   "execution_count": 60,
   "id": "08e0b63b",
   "metadata": {},
   "outputs": [
    {
     "data": {
      "text/html": [
       "<div>\n",
       "<style scoped>\n",
       "    .dataframe tbody tr th:only-of-type {\n",
       "        vertical-align: middle;\n",
       "    }\n",
       "\n",
       "    .dataframe tbody tr th {\n",
       "        vertical-align: top;\n",
       "    }\n",
       "\n",
       "    .dataframe thead th {\n",
       "        text-align: right;\n",
       "    }\n",
       "</style>\n",
       "<table border=\"1\" class=\"dataframe\">\n",
       "  <thead>\n",
       "    <tr style=\"text-align: right;\">\n",
       "      <th></th>\n",
       "      <th>Survived</th>\n",
       "      <th>Pclass</th>\n",
       "      <th>Age</th>\n",
       "      <th>Fare</th>\n",
       "      <th>FamilySize</th>\n",
       "      <th>Sex_female</th>\n",
       "      <th>Sex_male</th>\n",
       "      <th>Embarked_C</th>\n",
       "      <th>Embarked_Q</th>\n",
       "      <th>Embarked_S</th>\n",
       "      <th>Title_Master</th>\n",
       "      <th>Title_Miss</th>\n",
       "      <th>Title_Mr</th>\n",
       "      <th>Title_Mrs</th>\n",
       "      <th>Title_Others</th>\n",
       "    </tr>\n",
       "  </thead>\n",
       "  <tbody>\n",
       "    <tr>\n",
       "      <th>0</th>\n",
       "      <td>0</td>\n",
       "      <td>3</td>\n",
       "      <td>1</td>\n",
       "      <td>0</td>\n",
       "      <td>1</td>\n",
       "      <td>0</td>\n",
       "      <td>1</td>\n",
       "      <td>0</td>\n",
       "      <td>0</td>\n",
       "      <td>1</td>\n",
       "      <td>0</td>\n",
       "      <td>0</td>\n",
       "      <td>1</td>\n",
       "      <td>0</td>\n",
       "      <td>0</td>\n",
       "    </tr>\n",
       "    <tr>\n",
       "      <th>1</th>\n",
       "      <td>1</td>\n",
       "      <td>1</td>\n",
       "      <td>3</td>\n",
       "      <td>2</td>\n",
       "      <td>1</td>\n",
       "      <td>1</td>\n",
       "      <td>0</td>\n",
       "      <td>1</td>\n",
       "      <td>0</td>\n",
       "      <td>0</td>\n",
       "      <td>0</td>\n",
       "      <td>0</td>\n",
       "      <td>0</td>\n",
       "      <td>1</td>\n",
       "      <td>0</td>\n",
       "    </tr>\n",
       "    <tr>\n",
       "      <th>2</th>\n",
       "      <td>1</td>\n",
       "      <td>3</td>\n",
       "      <td>2</td>\n",
       "      <td>0</td>\n",
       "      <td>0</td>\n",
       "      <td>1</td>\n",
       "      <td>0</td>\n",
       "      <td>0</td>\n",
       "      <td>0</td>\n",
       "      <td>1</td>\n",
       "      <td>0</td>\n",
       "      <td>1</td>\n",
       "      <td>0</td>\n",
       "      <td>0</td>\n",
       "      <td>0</td>\n",
       "    </tr>\n",
       "    <tr>\n",
       "      <th>3</th>\n",
       "      <td>1</td>\n",
       "      <td>1</td>\n",
       "      <td>2</td>\n",
       "      <td>2</td>\n",
       "      <td>1</td>\n",
       "      <td>1</td>\n",
       "      <td>0</td>\n",
       "      <td>0</td>\n",
       "      <td>0</td>\n",
       "      <td>1</td>\n",
       "      <td>0</td>\n",
       "      <td>0</td>\n",
       "      <td>0</td>\n",
       "      <td>1</td>\n",
       "      <td>0</td>\n",
       "    </tr>\n",
       "    <tr>\n",
       "      <th>4</th>\n",
       "      <td>0</td>\n",
       "      <td>3</td>\n",
       "      <td>2</td>\n",
       "      <td>0</td>\n",
       "      <td>0</td>\n",
       "      <td>0</td>\n",
       "      <td>1</td>\n",
       "      <td>0</td>\n",
       "      <td>0</td>\n",
       "      <td>1</td>\n",
       "      <td>0</td>\n",
       "      <td>0</td>\n",
       "      <td>1</td>\n",
       "      <td>0</td>\n",
       "      <td>0</td>\n",
       "    </tr>\n",
       "  </tbody>\n",
       "</table>\n",
       "</div>"
      ],
      "text/plain": [
       "   Survived  Pclass  Age  Fare  FamilySize  Sex_female  Sex_male  Embarked_C  \\\n",
       "0         0       3    1     0           1           0         1           0   \n",
       "1         1       1    3     2           1           1         0           1   \n",
       "2         1       3    2     0           0           1         0           0   \n",
       "3         1       1    2     2           1           1         0           0   \n",
       "4         0       3    2     0           0           0         1           0   \n",
       "\n",
       "   Embarked_Q  Embarked_S  Title_Master  Title_Miss  Title_Mr  Title_Mrs  \\\n",
       "0           0           1             0           0         1          0   \n",
       "1           0           0             0           0         0          1   \n",
       "2           0           1             0           1         0          0   \n",
       "3           0           1             0           0         0          1   \n",
       "4           0           1             0           0         1          0   \n",
       "\n",
       "   Title_Others  \n",
       "0             0  \n",
       "1             0  \n",
       "2             0  \n",
       "3             0  \n",
       "4             0  "
      ]
     },
     "execution_count": 60,
     "metadata": {},
     "output_type": "execute_result"
    }
   ],
   "source": [
    "train_df.head()"
   ]
  },
  {
   "cell_type": "markdown",
   "id": "03875a01",
   "metadata": {},
   "source": [
    "#### Modeling\n",
    "We want to identify relationship between target variable (Survived or not) with other feature variables (Gender, Age, Class etc). Our problem is a classification and regression problem. We will apply some supervised learning model as we are training our model with a given dataset.\n",
    "\n",
    "Logistic Regression\n",
    "KNN or k-Nearest Neighbors\n",
    "Support Vector Machines\n",
    "Naive Bayes classifier\n",
    "Decision Tree\n",
    "Random Forrest"
   ]
  },
  {
   "cell_type": "code",
   "execution_count": 61,
   "id": "7d93b7f0",
   "metadata": {},
   "outputs": [
    {
     "data": {
      "text/plain": [
       "((623, 14), (268, 14), (623,), (268,))"
      ]
     },
     "execution_count": 61,
     "metadata": {},
     "output_type": "execute_result"
    }
   ],
   "source": [
    "#prepare the data\n",
    "from sklearn.model_selection import train_test_split #for split the data\n",
    "from sklearn.metrics import accuracy_score  #for accuracy_score\n",
    "all_features = train_df.drop(\"Survived\",axis=1)\n",
    "target_feature = train_df[\"Survived\"]\n",
    "X_train,X_test,y_train,y_test = train_test_split(all_features,target_feature,test_size=0.3,random_state=42)\n",
    "X_train.shape,X_test.shape,y_train.shape,y_test.shape"
   ]
  },
  {
   "cell_type": "code",
   "execution_count": 62,
   "id": "f37b7d73",
   "metadata": {},
   "outputs": [],
   "source": [
    "# this fn is used to apply a model which will be passed as parameter and return the accuracy using that model\n",
    "def apply_model(model,xtrain,xtest,ytrain,ytest):\n",
    "    model.fit(xtrain,ytrain)\n",
    "    prediction=model.predict(xtest)\n",
    "    acc = round(accuracy_score(prediction,ytest)*100,2)\n",
    "    return acc"
   ]
  },
  {
   "cell_type": "code",
   "execution_count": 63,
   "id": "05295da6",
   "metadata": {},
   "outputs": [
    {
     "name": "stdout",
     "output_type": "stream",
     "text": [
      "The accuracy of the Logistic Regression is 82.46\n"
     ]
    }
   ],
   "source": [
    "# Apply logistic regression\n",
    "from sklearn.linear_model import LogisticRegression # Logistic Regression\n",
    "logireg_acc=apply_model(LogisticRegression(),X_train,X_test,y_train,y_test)\n",
    "print('The accuracy of the Logistic Regression is', logireg_acc)"
   ]
  },
  {
   "cell_type": "code",
   "execution_count": 64,
   "id": "3cde6d1d",
   "metadata": {},
   "outputs": [
    {
     "name": "stdout",
     "output_type": "stream",
     "text": [
      "The accuracy of the Random Forest Classifier is 79.85\n"
     ]
    }
   ],
   "source": [
    "#Apply  Random Forests\n",
    "from sklearn.ensemble import RandomForestClassifier\n",
    "\n",
    "randf_model = RandomForestClassifier(criterion='gini', n_estimators=700,\n",
    "                             min_samples_split=10,min_samples_leaf=1,\n",
    "                             max_features='auto',oob_score=True,\n",
    "                             random_state=1,n_jobs=-1)\n",
    "\n",
    "randf_acc = apply_model(randf_model,X_train,X_test,y_train,y_test)\n",
    "print('The accuracy of the Random Forest Classifier is', randf_acc)"
   ]
  },
  {
   "cell_type": "code",
   "execution_count": 65,
   "id": "4b25a222",
   "metadata": {},
   "outputs": [
    {
     "name": "stdout",
     "output_type": "stream",
     "text": [
      "The accuracy of the Support Vector Machines Classifier is 82.46\n"
     ]
    }
   ],
   "source": [
    "# Apply SVM\n",
    "from sklearn.svm import SVC, LinearSVC\n",
    "svm_model = SVC()\n",
    "svm_acc = apply_model(svm_model,X_train,X_test,y_train,y_test)\n",
    "print('The accuracy of the Support Vector Machines Classifier is', svm_acc)"
   ]
  },
  {
   "cell_type": "code",
   "execution_count": 66,
   "id": "58a52a3a",
   "metadata": {},
   "outputs": [
    {
     "name": "stdout",
     "output_type": "stream",
     "text": [
      "The accuracy of the K Nearst Neighbors Classifier is 78.73\n"
     ]
    }
   ],
   "source": [
    "#Apply knn\n",
    "from sklearn.neighbors import KNeighborsClassifier\n",
    "\n",
    "knn_acc = apply_model(KNeighborsClassifier(n_neighbors = 4),X_train,X_test,y_train,y_test)\n",
    "print('The accuracy of the K Nearst Neighbors Classifier is', knn_acc)\n"
   ]
  },
  {
   "cell_type": "code",
   "execution_count": 67,
   "id": "fd19c8ec",
   "metadata": {},
   "outputs": [
    {
     "name": "stdout",
     "output_type": "stream",
     "text": [
      "The accuracy of the DecisionTree Classifier is 80.6\n"
     ]
    }
   ],
   "source": [
    "#Apply Decision Tree\n",
    "from sklearn.tree import DecisionTreeClassifier\n",
    "dtree_model= DecisionTreeClassifier(criterion='gini', \n",
    "                             min_samples_split=10,min_samples_leaf=1,\n",
    "                             max_features='auto')\n",
    "dtree_acc = apply_model(dtree_model,X_train,X_test,y_train,y_test)\n",
    "print('The accuracy of the DecisionTree Classifier is', dtree_acc)"
   ]
  },
  {
   "cell_type": "code",
   "execution_count": 68,
   "id": "cfca3d95",
   "metadata": {},
   "outputs": [
    {
     "data": {
      "text/html": [
       "<div>\n",
       "<style scoped>\n",
       "    .dataframe tbody tr th:only-of-type {\n",
       "        vertical-align: middle;\n",
       "    }\n",
       "\n",
       "    .dataframe tbody tr th {\n",
       "        vertical-align: top;\n",
       "    }\n",
       "\n",
       "    .dataframe thead th {\n",
       "        text-align: right;\n",
       "    }\n",
       "</style>\n",
       "<table border=\"1\" class=\"dataframe\">\n",
       "  <thead>\n",
       "    <tr style=\"text-align: right;\">\n",
       "      <th></th>\n",
       "      <th>Model</th>\n",
       "    </tr>\n",
       "    <tr>\n",
       "      <th>Score</th>\n",
       "      <th></th>\n",
       "    </tr>\n",
       "  </thead>\n",
       "  <tbody>\n",
       "    <tr>\n",
       "      <th>82.46</th>\n",
       "      <td>Logistic Regression</td>\n",
       "    </tr>\n",
       "    <tr>\n",
       "      <th>82.46</th>\n",
       "      <td>Support Vector Machines</td>\n",
       "    </tr>\n",
       "    <tr>\n",
       "      <th>80.60</th>\n",
       "      <td>DecisionTree Classifier</td>\n",
       "    </tr>\n",
       "    <tr>\n",
       "      <th>79.85</th>\n",
       "      <td>Random Forest</td>\n",
       "    </tr>\n",
       "    <tr>\n",
       "      <th>78.73</th>\n",
       "      <td>KNN</td>\n",
       "    </tr>\n",
       "  </tbody>\n",
       "</table>\n",
       "</div>"
      ],
      "text/plain": [
       "                         Model\n",
       "Score                         \n",
       "82.46      Logistic Regression\n",
       "82.46  Support Vector Machines\n",
       "80.60  DecisionTree Classifier\n",
       "79.85            Random Forest\n",
       "78.73                      KNN"
      ]
     },
     "execution_count": 68,
     "metadata": {},
     "output_type": "execute_result"
    }
   ],
   "source": [
    "models = pd.DataFrame({\n",
    "    'Model': ['Logistic Regression','Random Forest','Support Vector Machines', 'KNN', \n",
    "               'DecisionTree Classifier'],\n",
    "    'Score': [logireg_acc, randf_acc, svm_acc, \n",
    "              knn_acc, dtree_acc]})\n",
    "models = models.sort_values(by='Score', ascending=False)\n",
    "models = models.set_index('Score')\n",
    "models"
   ]
  },
  {
   "cell_type": "markdown",
   "id": "7376daed",
   "metadata": {},
   "source": [
    "Going to use the SVM model for deployment"
   ]
  },
  {
   "cell_type": "code",
   "execution_count": 69,
   "id": "be2150cd",
   "metadata": {},
   "outputs": [],
   "source": [
    "import pickle\n",
    "pickle.dump(svm_model,open('svm_model.pkl','wb'))"
   ]
  },
  {
   "cell_type": "code",
   "execution_count": 70,
   "id": "a3548d73",
   "metadata": {},
   "outputs": [
    {
     "name": "stdout",
     "output_type": "stream",
     "text": [
      "Total survived from test data 151 out of 418 (36.12%)\n"
     ]
    },
    {
     "data": {
      "text/plain": [
       "<AxesSubplot:ylabel='count'>"
      ]
     },
     "execution_count": 70,
     "metadata": {},
     "output_type": "execute_result"
    },
    {
     "data": {
      "image/png": "[encoded data removed]",
      "text/plain": [
       "<Figure size 432x288 with 1 Axes>"
      ]
     },
     "metadata": {
      "needs_background": "light"
     },
     "output_type": "display_data"
    }
   ],
   "source": [
    "# Apply SVM\n",
    "svm_prediction=svm_model.predict(test_df)\n",
    "survived = np.count_nonzero(svm_prediction)\n",
    "total = svm_prediction.size\n",
    "print('Total survived from test data '+str(survived)+' out of '+str(total)+' ('+str(round((survived/total)*100,2))+'%)')\n",
    "sns.countplot(svm_prediction)"
   ]
  },
  {
   "cell_type": "code",
   "execution_count": null,
   "id": "b9555031",
   "metadata": {},
   "outputs": [],
   "source": []
  }
 ],
 "metadata": {
  "kernelspec": {
   "display_name": "Python 3 (ipykernel)",
   "language": "python",
   "name": "python3"
  },
  "language_info": {
   "codemirror_mode": {
    "name": "ipython",
    "version": 3
   },
   "file_extension": ".py",
   "mimetype": "text/x-python",
   "name": "python",
   "nbconvert_exporter": "python",
   "pygments_lexer": "ipython3",
   "version": "3.9.12"
  }
 },
 "nbformat": 4,
 "nbformat_minor": 5
}
